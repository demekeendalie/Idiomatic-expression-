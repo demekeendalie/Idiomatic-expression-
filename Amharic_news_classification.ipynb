{
  "cells": [
    {
      "cell_type": "markdown",
      "metadata": {
        "id": "view-in-github",
        "colab_type": "text"
      },
      "source": [
        "<a href=\"https://colab.research.google.com/github/demekeendalie/Idiomatic-expression-/blob/main/Amharic_news_classification.ipynb\" target=\"_parent\"><img src=\"https://colab.research.google.com/assets/colab-badge.svg\" alt=\"Open In Colab\"/></a>"
      ]
    },
    {
      "cell_type": "code",
      "execution_count": 1,
      "metadata": {
        "id": "My-hxiBonu0b"
      },
      "outputs": [],
      "source": [
        "import pandas as pd\n",
        "import numpy as np\n",
        "import tensorflow as tf\n"
      ]
    },
    {
      "cell_type": "code",
      "execution_count": 2,
      "metadata": {
        "colab": {
          "base_uri": "https://localhost:8080/"
        },
        "id": "IyWKvmnZoO65",
        "outputId": "4fede798-1e98-4cbb-caf0-dbafcb81e7ef"
      },
      "outputs": [
        {
          "output_type": "stream",
          "name": "stdout",
          "text": [
            "Drive already mounted at /content/drive; to attempt to forcibly remount, call drive.mount(\"/content/drive\", force_remount=True).\n"
          ]
        }
      ],
      "source": [
        "from google.colab import drive\n",
        "drive.mount('/content/drive')"
      ]
    },
    {
      "cell_type": "code",
      "execution_count": 3,
      "metadata": {
        "id": "5iIPewanpCAq"
      },
      "outputs": [],
      "source": [
        "# reading the dataset from my drive using the above drive\n",
        "dataframe =pd.read_excel('/content/drive/My Drive/output.xlsx')"
      ]
    },
    {
      "cell_type": "code",
      "execution_count": 4,
      "metadata": {
        "colab": {
          "base_uri": "https://localhost:8080/"
        },
        "id": "kIJDEsgl0a1o",
        "outputId": "d541cd3f-1b6a-4be5-c121-267d2ecd9fb0"
      },
      "outputs": [
        {
          "output_type": "execute_result",
          "data": {
            "text/plain": [
              "array(['accident', 'agriculture', 'health', 'education', 'economy',\n",
              "       'politics', 'sport'], dtype=object)"
            ]
          },
          "metadata": {},
          "execution_count": 4
        }
      ],
      "source": [
        "dataframe.category.unique()"
      ]
    },
    {
      "cell_type": "code",
      "execution_count": 5,
      "metadata": {
        "id": "OEzOZ3ttnn37"
      },
      "outputs": [],
      "source": [
        "# reading the second dataset from the drive\n",
        "dataframe2=pd.read_excel('/content/drive/My Drive/newdata.xlsx')"
      ]
    },
    {
      "cell_type": "code",
      "execution_count": 6,
      "metadata": {
        "colab": {
          "base_uri": "https://localhost:8080/"
        },
        "id": "eErjYt2Y0M0c",
        "outputId": "b9e4b97b-a27a-47c0-bf14-fb7f430ffcad"
      },
      "outputs": [
        {
          "output_type": "execute_result",
          "data": {
            "text/plain": [
              "array(['sport', 'economy', 'politics', 'accident', 'agriculture',\n",
              "       'health', 'education'], dtype=object)"
            ]
          },
          "metadata": {},
          "execution_count": 6
        }
      ],
      "source": [
        "dataframe2.category.unique()"
      ]
    },
    {
      "cell_type": "code",
      "execution_count": 7,
      "metadata": {
        "id": "YbVeMu8An-4N"
      },
      "outputs": [],
      "source": [
        "# merging the two dataframes\n",
        "frame=[dataframe,dataframe2]\n",
        "merge=pd.concat(frame)"
      ]
    },
    {
      "cell_type": "code",
      "execution_count": 8,
      "metadata": {
        "colab": {
          "base_uri": "https://localhost:8080/"
        },
        "id": "SaTl0zt3y5Jb",
        "outputId": "0dc6ded3-978c-4db1-feee-aaebfc8e40d2"
      },
      "outputs": [
        {
          "output_type": "stream",
          "name": "stdout",
          "text": [
            "                                              articles   category\n",
            "0     ግንቦት 13/2011  በተሽከርካሪ አደጋ ድንገተኛ ህክምና የተፈቀደው ሁ...   accident\n",
            "1    ሚያዝያ  25/ 2011 የሰሜን ተራሮች ብሄራዊ ፓርክን የአደጋ ስጋቶች ለ...   accident\n",
            "2    በደቡብ ወሎ ዞን ኩታበር ወረዳ ዛሬ በደረሰ የትራፊክ አደጋ በ11 ሰዎች ...   accident\n",
            "3    የህዝብ ተወካዮች ምክር ቤት አባላት ዛሬ ጠዋት የተፈናቀሉ ወገኖችን ለመጎ...   accident\n",
            "4    በባህር ዳር ከተማ ቀበሌ 05 በእሳት አደጋ ቤትና ንብረት የወደመባቸው ሰ...   accident\n",
            "..                                                 ...        ...\n",
            "695  ጎባ፤ መስከረም 16/2015 (ኢዜአ) መደ ወላቡ ዩኒቨርሲቲ ተጨማሪ 13 ...  education\n",
            "696  ባህር ዳር ሰኔ 7/2010 በአማራ ክልል ከህብረተሰቡ ከደረሱት ጥቆማዎች ...  education\n",
            "697  አዲስ አበባ ሰኔ 29/2010 የትምህርት ጥራት ጉድለት በአገሪቱ ላይ ዘር...  education\n",
            "698  አዲስ አበባ፤ መስከረም 15/ 2016 (ኢዜአ)፦ በተባበሩት አረብ ኤምሬቶ...  education\n",
            "699  አዲስ አበባ መጋቢት 4/2012(ኢዜአ) ግማሽ ቢሊዮን ብር ወጪ የተደረገበ...  education\n",
            "\n",
            "[2181 rows x 2 columns]\n"
          ]
        }
      ],
      "source": [
        "print(merge)"
      ]
    },
    {
      "cell_type": "code",
      "execution_count": 9,
      "metadata": {
        "colab": {
          "base_uri": "https://localhost:8080/"
        },
        "id": "dAXCXQNNozqG",
        "outputId": "7b23d880-de86-4c67-cce4-93f33100fabc"
      },
      "outputs": [
        {
          "output_type": "execute_result",
          "data": {
            "text/plain": [
              "array(['accident', 'agriculture', 'health', 'education', 'economy',\n",
              "       'politics', 'sport'], dtype=object)"
            ]
          },
          "metadata": {},
          "execution_count": 9
        }
      ],
      "source": [
        "# Viewing the names of categories in the dataset\n",
        "merge.category.unique()"
      ]
    },
    {
      "cell_type": "code",
      "execution_count": 10,
      "metadata": {
        "colab": {
          "base_uri": "https://localhost:8080/"
        },
        "id": "w4tJMKIv_jw4",
        "outputId": "c973df8c-3ef0-44ff-8658-6702f4a1fb68"
      },
      "outputs": [
        {
          "output_type": "stream",
          "name": "stdout",
          "text": [
            "                                              articles   category  labels\n",
            "0     ግንቦት 13/2011  በተሽከርካሪ አደጋ ድንገተኛ ህክምና የተፈቀደው ሁ...   accident       0\n",
            "1    ሚያዝያ  25/ 2011 የሰሜን ተራሮች ብሄራዊ ፓርክን የአደጋ ስጋቶች ለ...   accident       0\n",
            "2    በደቡብ ወሎ ዞን ኩታበር ወረዳ ዛሬ በደረሰ የትራፊክ አደጋ በ11 ሰዎች ...   accident       0\n",
            "3    የህዝብ ተወካዮች ምክር ቤት አባላት ዛሬ ጠዋት የተፈናቀሉ ወገኖችን ለመጎ...   accident       0\n",
            "4    በባህር ዳር ከተማ ቀበሌ 05 በእሳት አደጋ ቤትና ንብረት የወደመባቸው ሰ...   accident       0\n",
            "..                                                 ...        ...     ...\n",
            "695  ጎባ፤ መስከረም 16/2015 (ኢዜአ) መደ ወላቡ ዩኒቨርሲቲ ተጨማሪ 13 ...  education       3\n",
            "696  ባህር ዳር ሰኔ 7/2010 በአማራ ክልል ከህብረተሰቡ ከደረሱት ጥቆማዎች ...  education       3\n",
            "697  አዲስ አበባ ሰኔ 29/2010 የትምህርት ጥራት ጉድለት በአገሪቱ ላይ ዘር...  education       3\n",
            "698  አዲስ አበባ፤ መስከረም 15/ 2016 (ኢዜአ)፦ በተባበሩት አረብ ኤምሬቶ...  education       3\n",
            "699  አዲስ አበባ መጋቢት 4/2012(ኢዜአ) ግማሽ ቢሊዮን ብር ወጪ የተደረገበ...  education       3\n",
            "\n",
            "[2181 rows x 3 columns]\n"
          ]
        }
      ],
      "source": [
        "# changing category to numeric\n",
        "label=pd.Categorical(merge['category']).codes\n",
        "label=pd.DataFrame(label)\n",
        "merge['labels']=pd.DataFrame(label)\n",
        "print(merge)"
      ]
    },
    {
      "cell_type": "code",
      "execution_count": 11,
      "metadata": {
        "id": "ZX3Ol-Kt_6TZ"
      },
      "outputs": [],
      "source": [
        "del merge['category']"
      ]
    },
    {
      "cell_type": "code",
      "execution_count": 12,
      "metadata": {
        "id": "7MeWz9GdqHcA"
      },
      "outputs": [],
      "source": [
        "# mixing each categories and thier labels\n",
        "dataframe=merge.sample(frac=1)"
      ]
    },
    {
      "cell_type": "code",
      "execution_count": 13,
      "metadata": {
        "colab": {
          "base_uri": "https://localhost:8080/"
        },
        "id": "5qEDKJjqjutp",
        "outputId": "6dba1d35-348c-479d-d02b-df17d94f0f9d"
      },
      "outputs": [
        {
          "output_type": "stream",
          "name": "stdout",
          "text": [
            "314.2563044475011\n"
          ]
        }
      ],
      "source": [
        "dataframe['word_len'] = dataframe['articles'].str.split().str.len()\n",
        "print(dataframe['word_len'].mean())"
      ]
    },
    {
      "cell_type": "code",
      "source": [
        "#number of news under each categories\n",
        "#accident=dataframe[dataframe['category']=='accident']\n",
        "#agir=dataframe[dataframe['category']=='agriculture']\n",
        "#health=dataframe[dataframe['category']=='health']\n",
        "#education=dataframe[dataframe['category']=='education']\n",
        "#economy=dataframe[dataframe['category']=='economy']\n",
        "#politics=dataframe[dataframe['category']=='politics']\n",
        "#sport=dataframe[dataframe['category']=='sport']\n",
        "#print(accident.shape)\n",
        "#print(agir.shape)\n",
        "#print(health.shape)\n",
        "#print(education.shape)\n",
        "#print(economy.shape)\n",
        "#print(politics.shape)\n",
        "#print(sport.shape)"
      ],
      "metadata": {
        "id": "PdzL8ZMy12iu"
      },
      "execution_count": 14,
      "outputs": []
    },
    {
      "cell_type": "code",
      "execution_count": 15,
      "metadata": {
        "id": "tZ40OBPWrp63"
      },
      "outputs": [],
      "source": [
        "#normalizarion\n",
        "import re\n",
        "#method to normalize character level missmatch such as ጸሀይ and ፀሐይ\n",
        "def normalization(input_token):\n",
        "    rep1=re.sub('[ሃኅኃሐሓኻ]','ሀ',input_token)\n",
        "    rep2=re.sub('[ሑኁዅ]','ሁ',rep1)\n",
        "    rep3=re.sub('[ኂሒኺ]','ሂ',rep2)\n",
        "    rep4=re.sub('[ኌሔዄ]','ሄ',rep3)\n",
        "    rep5=re.sub('[ሕኅ]','ህ',rep4)\n",
        "    rep6=re.sub('[ኆሖኾ]','ሆ',rep5)\n",
        "    rep7=re.sub('[ሠ]','ሰ',rep6)\n",
        "    rep8=re.sub('[ሡ]','ሱ',rep7)\n",
        "    rep9=re.sub('[ሢ]','ሲ',rep8)\n",
        "    rep10=re.sub('[ሣ]','ሳ',rep9)\n",
        "    rep11=re.sub('[ሤ]','ሴ',rep10)\n",
        "    rep12=re.sub('[ሥ]','ስ',rep11)\n",
        "    rep13=re.sub('[ሦ]','ሶ',rep12)\n",
        "    rep14=re.sub('[ዓኣዐ]','አ',rep13)\n",
        "    rep15=re.sub('[ዑ]','ኡ',rep14)\n",
        "    rep16=re.sub('[ዒ]','ኢ',rep15)\n",
        "    rep17=re.sub('[ዔ]','ኤ',rep16)\n",
        "    rep18=re.sub('[ዕ]','እ',rep17)\n",
        "    rep19=re.sub('[ዖ]','ኦ',rep18)\n",
        "    rep20=re.sub('[ጸ]','ፀ',rep19)\n",
        "    rep21=re.sub('[ጹ]','ፁ',rep20)\n",
        "    rep22=re.sub('[ጺ]','ፂ',rep21)\n",
        "    rep23=re.sub('[ጻ]','ፃ',rep22)\n",
        "    rep24=re.sub('[ጼ]','ፄ',rep23)\n",
        "    rep25=re.sub('[ጽ]','ፅ',rep24)\n",
        "    rep26=re.sub('[ጾ]','ፆ',rep25)\n",
        "    rep27=re.sub('(ሉ[ዋአ])','ሏ',rep26)\n",
        "    rep28=re.sub('(ሙ[ዋአ])','ሟ',rep27)\n",
        "    rep29=re.sub('(ቱ[ዋአ])','ቷ',rep28)\n",
        "    rep30=re.sub('(ሩ[ዋአ])','ሯ',rep29)\n",
        "    rep31=re.sub('(ሱ[ዋአ])','ሷ',rep30)\n",
        "    rep32=re.sub('(ሹ[ዋአ])','ሿ',rep31)\n",
        "    rep33=re.sub('(ቁ[ዋአ])','ቋ',rep32)\n",
        "    rep34=re.sub('(ቡ[ዋአ])','ቧ',rep33)\n",
        "    rep35=re.sub('(ቹ[ዋአ])','ቿ',rep34)\n",
        "    rep36=re.sub('(ሁ[ዋአ])','ኋ',rep35)\n",
        "    rep37=re.sub('(ኑ[ዋአ])','ኗ',rep36)\n",
        "    rep38=re.sub('(ኙ[ዋአ])','ኟ',rep37)\n",
        "    rep39=re.sub('(ኩ[ዋአ])','ኳ',rep38)\n",
        "    rep40=re.sub('(ዙ[ዋአ])','ዟ',rep39)\n",
        "    rep41=re.sub('(ጉ[ዋአ])','ጓ',rep40)\n",
        "    rep42=re.sub('(ደ[ዋአ])','ዷ',rep41)\n",
        "    rep43=re.sub('(ጡ[ዋአ])','ጧ',rep42)\n",
        "    rep44=re.sub('(ጩ[ዋአ])','ጯ',rep43)\n",
        "    rep45=re.sub('(ጹ[ዋአ])','ጿ',rep44)\n",
        "    rep46=re.sub('(ፉ[ዋአ])','ፏ',rep45)\n",
        "    rep47=re.sub('[ቊ]','ቁ',rep46) #ቁ can be written as ቊ\n",
        "    rep48=re.sub('[ኵ]','ኩ',rep47) #ኩ can be also written as ኵ\n",
        "    return rep48"
      ]
    },
    {
      "cell_type": "code",
      "execution_count": 16,
      "metadata": {
        "id": "HMvQcXLzq9pA"
      },
      "outputs": [],
      "source": [
        "# apply normalization and special characters removal\n",
        "dataframe['articles']=dataframe['articles'].apply(lambda x: normalization(x))"
      ]
    },
    {
      "cell_type": "code",
      "execution_count": 17,
      "metadata": {
        "id": "BXSXVyLMsb30"
      },
      "outputs": [],
      "source": [
        "# special symbol removal\n",
        "dataframe['articles']=dataframe['articles'].str.replace('[^\\w\\s]','',regex=True)"
      ]
    },
    {
      "cell_type": "code",
      "execution_count": 18,
      "metadata": {
        "id": "ZaiYzzFzro2o"
      },
      "outputs": [],
      "source": [
        "# removing digits from the dataset\n",
        "dataframe['articles']=dataframe['articles'].str.replace('\\d+','',regex=True)"
      ]
    },
    {
      "cell_type": "code",
      "execution_count": 19,
      "metadata": {
        "colab": {
          "base_uri": "https://localhost:8080/"
        },
        "id": "SfCsOaSZAK1d",
        "outputId": "52881858-00dc-4746-8eff-4d5c26343801"
      },
      "outputs": [
        {
          "output_type": "stream",
          "name": "stdout",
          "text": [
            "                                               articles  labels  word_len\n",
            "272   በትግራይ በሄክታር ከ ኩንታል በላይ ምርት የሚሰጠው የቲማቲም ዝርያ በሌሎ...       1       307\n",
            "978   የማምረቻ ማሽኖችንና መለዋወጫ ቁሳቁሶችን በሀገር ውስጥ በማምረት ተጠቃሚ ...       2       497\n",
            "156   በቀለች ካባ የተባሉ ሌላ አስተያየት ሰጪ እንዳሉት በኤጀንሲው በኩል ለደረ...       0       359\n",
            "1079  ስም የማጥፋት ዘመቻዎች ለአገር የሚጠቅም ሀሳብ ያላቸው ግለሰቦች አንዲደበ...       5       190\n",
            "1189  የትምህርት ተቋማት የእውቀትና የምርምር መሰረት እንጂ የግጭት ማእከላት መ...       5       249\n",
            "...                                                 ...     ...       ...\n",
            "679   በአገሪቱ በስራ ላይ ያለው ስርአተ ትምህርት ያሉበትን ችግሮች ለማስወገድ ...       3       306\n",
            "1456  የፋሲል ከነማ ደጋፊዎችን አሳፍሮ ከባህርዳር ወደ ጎንደር ሲጓዝ የነበረ አ...       6       149\n",
            "95    የቶኪዮ  ኦሊምፒክ ለአስራ ስድስት ወራት በመራዘሙ ምክንያት የአዘጋጅ አገ...       0       450\n",
            "1133  ኢትዮጰያና እስራኤል ግንኙነታቸውን የበለጠ ለማሳደግ ተስማሙ\\nአዲስ አበባ...       5       225\n",
            "801   የጋምቤላ ዩኒቨርሲቲ ከአንድ ሺህ አምስት መቶ በላይ አዲስ ተማሪዎችን ተቀ...       3       248\n",
            "\n",
            "[2181 rows x 3 columns]\n"
          ]
        }
      ],
      "source": [
        "print(dataframe)"
      ]
    },
    {
      "cell_type": "code",
      "execution_count": 20,
      "metadata": {
        "colab": {
          "base_uri": "https://localhost:8080/"
        },
        "id": "uKFAl1I-xAFg",
        "outputId": "f5e4da84-c902-4935-8c34-59f40f7b0c39"
      },
      "outputs": [
        {
          "output_type": "stream",
          "name": "stdout",
          "text": [
            "Training dataset shape:  (1569, 3)\n",
            "Validation dataset shape:  (175, 3)\n",
            "Testing dataset shape:  (437, 3)\n"
          ]
        }
      ],
      "source": [
        "# train test split\n",
        "from sklearn.model_selection import train_test_split\n",
        "train_val_df, test_dataset = train_test_split(dataframe, test_size=0.20, random_state=42)\n",
        "train_dataset, evaluation_dataset = train_test_split(train_val_df, test_size=0.10, random_state=42)\n",
        "print('Training dataset shape: ', train_dataset.shape)\n",
        "print('Validation dataset shape: ', evaluation_dataset.shape)\n",
        "print('Testing dataset shape: ', test_dataset.shape)"
      ]
    },
    {
      "cell_type": "code",
      "execution_count": 21,
      "metadata": {
        "colab": {
          "base_uri": "https://localhost:8080/"
        },
        "id": "gwPgLLRq776I",
        "outputId": "2b1720ff-6027-4972-e2db-c8bb428f0832"
      },
      "outputs": [
        {
          "output_type": "stream",
          "name": "stdout",
          "text": [
            "                                               articles  labels  word_len\n",
            "272   በትግራይ በሄክታር ከ ኩንታል በላይ ምርት የሚሰጠው የቲማቲም ዝርያ በሌሎ...       1       307\n",
            "978   የማምረቻ ማሽኖችንና መለዋወጫ ቁሳቁሶችን በሀገር ውስጥ በማምረት ተጠቃሚ ...       2       497\n",
            "156   በቀለች ካባ የተባሉ ሌላ አስተያየት ሰጪ እንዳሉት በኤጀንሲው በኩል ለደረ...       0       359\n",
            "1079  ስም የማጥፋት ዘመቻዎች ለአገር የሚጠቅም ሀሳብ ያላቸው ግለሰቦች አንዲደበ...       5       190\n",
            "1189  የትምህርት ተቋማት የእውቀትና የምርምር መሰረት እንጂ የግጭት ማእከላት መ...       5       249\n",
            "673   ሀረር መስከረም  ሀረማያ ዩኒቨርሲቲ በዘንድሮ የትምህርት ዘመን በሁለተኛና...       3       159\n",
            "900   በደብረ ብርሀን ከተማ በሁለት ነጥብ ሰባት ሚሊዮን ብር ወጪ የተገነቡ ፕሮ...       2       192\n",
            "1302  በቫሌንሺያ የ ኪሎ ሜትር የጎዳና ላይ ሩጫ ኢትዮጵያውያን አትሌቶች ድል ቀ...       6       112\n",
            "608   ሀረር  መስከረም  ኢዜአ የሀረማያ ዩኒቨርሲቲ በተለያዩ የትምህርት ዘርፍ ...       4       282\n",
            "1417  የኢትዮጵያ ከ አመት በታች የእጅ ኳስ ቡድን ለፍፃሜ አለፈ\\n\\nአዲስ አበ...       6       201\n"
          ]
        }
      ],
      "source": [
        "print(dataframe.head(10))"
      ]
    },
    {
      "cell_type": "code",
      "execution_count": 22,
      "metadata": {
        "id": "FR20K-H1t80x"
      },
      "outputs": [],
      "source": [
        "msk = np.random.rand(len(dataframe)) < 0.8\n",
        "train_dataset = dataframe[msk]\n",
        "test_dataset = dataframe[~msk]"
      ]
    },
    {
      "cell_type": "code",
      "execution_count": 23,
      "metadata": {
        "colab": {
          "base_uri": "https://localhost:8080/"
        },
        "id": "ICjbXhCUY2Vc",
        "outputId": "7a57de97-9914-40bc-d4cc-8995f763268a"
      },
      "outputs": [
        {
          "output_type": "stream",
          "name": "stdout",
          "text": [
            "Requirement already satisfied: datasets in /usr/local/lib/python3.10/dist-packages (2.15.0)\n",
            "Requirement already satisfied: numpy>=1.17 in /usr/local/lib/python3.10/dist-packages (from datasets) (1.23.5)\n",
            "Requirement already satisfied: pyarrow>=8.0.0 in /usr/local/lib/python3.10/dist-packages (from datasets) (9.0.0)\n",
            "Requirement already satisfied: pyarrow-hotfix in /usr/local/lib/python3.10/dist-packages (from datasets) (0.6)\n",
            "Requirement already satisfied: dill<0.3.8,>=0.3.0 in /usr/local/lib/python3.10/dist-packages (from datasets) (0.3.7)\n",
            "Requirement already satisfied: pandas in /usr/local/lib/python3.10/dist-packages (from datasets) (1.5.3)\n",
            "Requirement already satisfied: requests>=2.19.0 in /usr/local/lib/python3.10/dist-packages (from datasets) (2.31.0)\n",
            "Requirement already satisfied: tqdm>=4.62.1 in /usr/local/lib/python3.10/dist-packages (from datasets) (4.66.1)\n",
            "Requirement already satisfied: xxhash in /usr/local/lib/python3.10/dist-packages (from datasets) (3.4.1)\n",
            "Requirement already satisfied: multiprocess in /usr/local/lib/python3.10/dist-packages (from datasets) (0.70.15)\n",
            "Requirement already satisfied: fsspec[http]<=2023.10.0,>=2023.1.0 in /usr/local/lib/python3.10/dist-packages (from datasets) (2023.6.0)\n",
            "Requirement already satisfied: aiohttp in /usr/local/lib/python3.10/dist-packages (from datasets) (3.9.1)\n",
            "Requirement already satisfied: huggingface-hub>=0.18.0 in /usr/local/lib/python3.10/dist-packages (from datasets) (0.19.4)\n",
            "Requirement already satisfied: packaging in /usr/local/lib/python3.10/dist-packages (from datasets) (23.2)\n",
            "Requirement already satisfied: pyyaml>=5.1 in /usr/local/lib/python3.10/dist-packages (from datasets) (6.0.1)\n",
            "Requirement already satisfied: attrs>=17.3.0 in /usr/local/lib/python3.10/dist-packages (from aiohttp->datasets) (23.1.0)\n",
            "Requirement already satisfied: multidict<7.0,>=4.5 in /usr/local/lib/python3.10/dist-packages (from aiohttp->datasets) (6.0.4)\n",
            "Requirement already satisfied: yarl<2.0,>=1.0 in /usr/local/lib/python3.10/dist-packages (from aiohttp->datasets) (1.9.3)\n",
            "Requirement already satisfied: frozenlist>=1.1.1 in /usr/local/lib/python3.10/dist-packages (from aiohttp->datasets) (1.4.0)\n",
            "Requirement already satisfied: aiosignal>=1.1.2 in /usr/local/lib/python3.10/dist-packages (from aiohttp->datasets) (1.3.1)\n",
            "Requirement already satisfied: async-timeout<5.0,>=4.0 in /usr/local/lib/python3.10/dist-packages (from aiohttp->datasets) (4.0.3)\n",
            "Requirement already satisfied: filelock in /usr/local/lib/python3.10/dist-packages (from huggingface-hub>=0.18.0->datasets) (3.13.1)\n",
            "Requirement already satisfied: typing-extensions>=3.7.4.3 in /usr/local/lib/python3.10/dist-packages (from huggingface-hub>=0.18.0->datasets) (4.5.0)\n",
            "Requirement already satisfied: charset-normalizer<4,>=2 in /usr/local/lib/python3.10/dist-packages (from requests>=2.19.0->datasets) (3.3.2)\n",
            "Requirement already satisfied: idna<4,>=2.5 in /usr/local/lib/python3.10/dist-packages (from requests>=2.19.0->datasets) (3.6)\n",
            "Requirement already satisfied: urllib3<3,>=1.21.1 in /usr/local/lib/python3.10/dist-packages (from requests>=2.19.0->datasets) (2.0.7)\n",
            "Requirement already satisfied: certifi>=2017.4.17 in /usr/local/lib/python3.10/dist-packages (from requests>=2.19.0->datasets) (2023.11.17)\n",
            "Requirement already satisfied: python-dateutil>=2.8.1 in /usr/local/lib/python3.10/dist-packages (from pandas->datasets) (2.8.2)\n",
            "Requirement already satisfied: pytz>=2020.1 in /usr/local/lib/python3.10/dist-packages (from pandas->datasets) (2023.3.post1)\n",
            "Requirement already satisfied: six>=1.5 in /usr/local/lib/python3.10/dist-packages (from python-dateutil>=2.8.1->pandas->datasets) (1.16.0)\n"
          ]
        }
      ],
      "source": [
        "!pip install datasets"
      ]
    },
    {
      "cell_type": "code",
      "execution_count": 24,
      "metadata": {
        "id": "b82LS7YFYrIt"
      },
      "outputs": [],
      "source": [
        "from datasets import Dataset"
      ]
    },
    {
      "cell_type": "code",
      "execution_count": 25,
      "metadata": {
        "id": "YTy_1jvXzHI0"
      },
      "outputs": [],
      "source": [
        "#convert format of the dataset to HuggingFace Dataset from Pandas DataFrame\n",
        "test_dataset=Dataset.from_pandas(test_dataset)\n"
      ]
    },
    {
      "cell_type": "code",
      "execution_count": 26,
      "metadata": {
        "id": "6URqeXoyZM-l"
      },
      "outputs": [],
      "source": [
        "#convert the format of the dataset to HuggingFace Dataset from Pandas DataFrame\n",
        "train_dataset=Dataset.from_pandas(train_dataset)"
      ]
    },
    {
      "cell_type": "code",
      "execution_count": 27,
      "metadata": {
        "id": "-zTOH16jZdvj"
      },
      "outputs": [],
      "source": [
        "#convert the format of the dataset to HuggingFace Dataset from Pandas DataFrame\n",
        "evaluation_dataset=Dataset.from_pandas(evaluation_dataset)"
      ]
    },
    {
      "cell_type": "code",
      "execution_count": 28,
      "metadata": {
        "colab": {
          "base_uri": "https://localhost:8080/"
        },
        "id": "VuTwLGIvZfyQ",
        "outputId": "afa310bc-f3a2-46be-dcc0-a8849c511fc1"
      },
      "outputs": [
        {
          "output_type": "execute_result",
          "data": {
            "text/plain": [
              "Dataset({\n",
              "    features: ['articles', 'labels', 'word_len', '__index_level_0__'],\n",
              "    num_rows: 418\n",
              "})"
            ]
          },
          "metadata": {},
          "execution_count": 28
        }
      ],
      "source": [
        "#preview of the dataset after conversion\n",
        "(test_dataset)"
      ]
    },
    {
      "cell_type": "code",
      "source": [
        "print(test_dataset['labels'])"
      ],
      "metadata": {
        "colab": {
          "base_uri": "https://localhost:8080/"
        },
        "id": "Y3443EDnvNVr",
        "outputId": "50fe751d-a817-4b19-807d-84d46371aa5f"
      },
      "execution_count": 29,
      "outputs": [
        {
          "output_type": "stream",
          "name": "stdout",
          "text": [
            "[5, 6, 6, 1, 1, 6, 5, 3, 1, 0, 1, 2, 4, 0, 1, 2, 4, 1, 5, 3, 4, 4, 0, 4, 5, 3, 0, 3, 0, 4, 2, 3, 2, 3, 5, 4, 5, 2, 4, 1, 6, 3, 5, 0, 0, 1, 5, 5, 5, 5, 1, 6, 1, 2, 1, 4, 4, 3, 1, 0, 0, 4, 5, 1, 0, 5, 4, 4, 0, 1, 3, 2, 5, 6, 5, 0, 6, 0, 2, 0, 0, 1, 1, 1, 2, 6, 0, 4, 1, 4, 0, 1, 6, 4, 2, 1, 1, 4, 4, 3, 3, 4, 4, 0, 0, 0, 6, 3, 0, 3, 6, 4, 4, 3, 0, 1, 0, 1, 0, 5, 4, 4, 0, 4, 2, 3, 2, 4, 0, 6, 4, 3, 0, 6, 4, 0, 4, 0, 1, 4, 1, 3, 3, 1, 1, 5, 4, 3, 6, 4, 3, 6, 3, 4, 3, 3, 1, 3, 4, 1, 4, 0, 1, 5, 4, 4, 2, 1, 1, 4, 6, 4, 1, 4, 3, 3, 1, 1, 6, 2, 6, 4, 2, 4, 3, 3, 6, 6, 4, 4, 2, 3, 5, 1, 1, 0, 6, 1, 0, 3, 0, 4, 4, 4, 4, 4, 6, 6, 0, 3, 3, 5, 5, 6, 0, 2, 6, 5, 5, 3, 5, 6, 0, 0, 3, 3, 4, 2, 1, 3, 4, 3, 2, 1, 4, 1, 4, 3, 6, 0, 0, 3, 1, 2, 0, 1, 6, 0, 4, 3, 3, 0, 3, 0, 0, 3, 2, 2, 4, 3, 3, 0, 5, 2, 3, 6, 1, 4, 4, 4, 6, 5, 1, 4, 4, 4, 2, 5, 0, 3, 1, 3, 0, 5, 1, 4, 5, 1, 1, 5, 0, 4, 3, 6, 1, 3, 6, 4, 0, 5, 5, 4, 0, 0, 5, 5, 5, 4, 4, 5, 1, 2, 5, 0, 6, 4, 2, 4, 3, 4, 5, 3, 4, 0, 1, 1, 6, 5, 4, 0, 4, 4, 5, 0, 1, 4, 2, 4, 2, 2, 1, 2, 3, 4, 4, 3, 4, 0, 5, 0, 0, 4, 3, 6, 4, 3, 4, 2, 1, 0, 0, 1, 6, 2, 3, 5, 1, 4, 1, 1, 5, 6, 0, 0, 0, 1, 1, 2, 4, 1, 6, 4, 6, 1, 1, 6, 6, 4, 2, 4, 5, 4, 0, 4, 0, 1, 0, 6, 2, 1, 1, 3, 3, 1, 4, 6, 1, 1, 4, 2, 2, 5, 2, 0, 4, 1, 6, 3]\n"
          ]
        }
      ]
    },
    {
      "cell_type": "code",
      "execution_count": 30,
      "metadata": {
        "colab": {
          "base_uri": "https://localhost:8080/"
        },
        "id": "8_t8Yu8Xvtcn",
        "outputId": "ba38ecce-6ad7-41ff-8fb8-6ac33f6e2d5d"
      },
      "outputs": [
        {
          "output_type": "execute_result",
          "data": {
            "text/plain": [
              "Dataset({\n",
              "    features: ['articles', 'labels', 'word_len', '__index_level_0__'],\n",
              "    num_rows: 1763\n",
              "})"
            ]
          },
          "metadata": {},
          "execution_count": 30
        }
      ],
      "source": [
        "(train_dataset)"
      ]
    },
    {
      "cell_type": "code",
      "execution_count": 31,
      "metadata": {
        "colab": {
          "base_uri": "https://localhost:8080/"
        },
        "id": "hje0cVtwwL-3",
        "outputId": "cece41c7-9d5e-422b-9787-28b99ba028dd"
      },
      "outputs": [
        {
          "output_type": "execute_result",
          "data": {
            "text/plain": [
              "Dataset({\n",
              "    features: ['articles', 'labels', 'word_len', '__index_level_0__'],\n",
              "    num_rows: 175\n",
              "})"
            ]
          },
          "metadata": {},
          "execution_count": 31
        }
      ],
      "source": [
        "(evaluation_dataset)"
      ]
    },
    {
      "cell_type": "code",
      "execution_count": 32,
      "metadata": {
        "id": "ARf6YHrX1hH9"
      },
      "outputs": [],
      "source": [
        "#remove unnecessary column\n",
        "test_dataset=test_dataset.remove_columns(\"__index_level_0__\")\n",
        "train_dataset=train_dataset.remove_columns(\"__index_level_0__\")\n",
        "evaluation_dataset=evaluation_dataset.remove_columns(\"__index_level_0__\")"
      ]
    },
    {
      "cell_type": "code",
      "execution_count": 33,
      "metadata": {
        "id": "bbZKmJvaufy8"
      },
      "outputs": [],
      "source": [
        "#combine the train and test dataset into one datset\n",
        "import datasets\n",
        "main_dataset= datasets.DatasetDict({\n",
        "    'train': train_dataset,\n",
        "    'test': test_dataset,\n",
        "    'evaluate': evaluation_dataset\n",
        "})"
      ]
    },
    {
      "cell_type": "code",
      "execution_count": 34,
      "metadata": {
        "colab": {
          "base_uri": "https://localhost:8080/"
        },
        "id": "uYp-2NE8vN__",
        "outputId": "6ea0ba57-8a81-4fc1-b9ca-862c2f5fc2d5"
      },
      "outputs": [
        {
          "output_type": "execute_result",
          "data": {
            "text/plain": [
              "DatasetDict({\n",
              "    train: Dataset({\n",
              "        features: ['articles', 'labels', 'word_len'],\n",
              "        num_rows: 1763\n",
              "    })\n",
              "    test: Dataset({\n",
              "        features: ['articles', 'labels', 'word_len'],\n",
              "        num_rows: 418\n",
              "    })\n",
              "    evaluate: Dataset({\n",
              "        features: ['articles', 'labels', 'word_len'],\n",
              "        num_rows: 175\n",
              "    })\n",
              "})"
            ]
          },
          "metadata": {},
          "execution_count": 34
        }
      ],
      "source": [
        "main_dataset"
      ]
    },
    {
      "cell_type": "code",
      "execution_count": 35,
      "metadata": {
        "id": "impTGnkvK3S4"
      },
      "outputs": [],
      "source": [
        "# training and testing data size\n",
        "training_data_size = main_dataset['train'].num_rows\n",
        "testing_data_size = main_dataset['test'].num_rows\n",
        "evaluation_data_size = main_dataset['evaluate'].num_rows"
      ]
    },
    {
      "cell_type": "code",
      "execution_count": 36,
      "metadata": {
        "id": "1KxZq3lFm2dH"
      },
      "outputs": [],
      "source": [
        "from transformers import AutoTokenizer"
      ]
    },
    {
      "cell_type": "code",
      "execution_count": 37,
      "metadata": {
        "id": "i-8wkRmq4JxN"
      },
      "outputs": [],
      "source": [
        "#loading a tokenizer from the pretrained model\n",
        "tokenizer = AutoTokenizer.from_pretrained(\"Davlan/bert-base-multilingual-cased-finetuned-amharic\")"
      ]
    },
    {
      "cell_type": "code",
      "execution_count": 38,
      "metadata": {
        "id": "Qc_l56cba8qz"
      },
      "outputs": [],
      "source": [
        "#Have a tokenizer function that uses the tokenizer\n",
        "def tokenize_function(data):\n",
        "    return tokenizer(data[\"articles\"], padding=\"max_length\", truncation=True)"
      ]
    },
    {
      "cell_type": "code",
      "execution_count": 39,
      "metadata": {
        "colab": {
          "base_uri": "https://localhost:8080/",
          "height": 113,
          "referenced_widgets": [
            "588a71a1e81d4b7e96c38619b9d876d9",
            "d5f92a871f524725abdb7f216e51f624",
            "a0b77fe53ea642d58c9a44ed4a691c3e",
            "738cd2a8a29c4aa5a0c52dec53397cc8",
            "03e34ba65f8d4001b64c8d43f91d2547",
            "784f3eba7eef4af6858bbfdc7526132a",
            "686f8af7da5a45599fcf91886fa43ea1",
            "262b196648cc48729424a34605ca9b4a",
            "b7eeb7bc2b214b14b992f74c689775ef",
            "9a3d72e4be8b44f7a147c72ef3a87ed2",
            "4e0b82803dc347fb93cb701b602fc059",
            "11f53e81023d4138953821aee469016c",
            "a03c97763df54926b9bb00596a903776",
            "e23416e0eefa44a2905c26952d1332eb",
            "55d0531b281d48cbb338d2ab99e10a52",
            "f0d9f6ef21d143b486d233b4dbba7fa3",
            "3f73a64d025b4773a4150f5d595a7410",
            "bba0476634a547ff8edf1f4391be8327",
            "c2502c6dc5354e56816ce64dc511833b",
            "2886e94362dd4d7cb365e9168f564c08",
            "4e0d9af76b454a18a1263c102ec0560c",
            "d54bbdb92f264598925dd6590eee740d",
            "48fe2172c71d4eb5b0e2e02b79cae612",
            "6e54067f50cd4f4b91b55d4c21595e44",
            "7f5d281176fb418ab19ec488432c7349",
            "cf1d760999564ab7b49cea33e2ec2173",
            "ffda34834a6b4f97996ec79ab5c84cb8",
            "b2bc98cb4ecd4df9b63d6aa756b7357e",
            "10349a62e28d4eadb77716319a13007c",
            "11ffa6558bd64252afee9b75d8b78215",
            "768c146ef67f4a289772282ac1ec0ea0",
            "e5455d62e50f4ddd8d533355ed156c7d",
            "56f4976dd49747e1b7505fd375dcd35f"
          ]
        },
        "id": "wa91pCq-bQXl",
        "outputId": "a9df3c03-4a20-4568-8813-c728647a6c92"
      },
      "outputs": [
        {
          "output_type": "display_data",
          "data": {
            "text/plain": [
              "Map:   0%|          | 0/1763 [00:00<?, ? examples/s]"
            ],
            "application/vnd.jupyter.widget-view+json": {
              "version_major": 2,
              "version_minor": 0,
              "model_id": "588a71a1e81d4b7e96c38619b9d876d9"
            }
          },
          "metadata": {}
        },
        {
          "output_type": "display_data",
          "data": {
            "text/plain": [
              "Map:   0%|          | 0/418 [00:00<?, ? examples/s]"
            ],
            "application/vnd.jupyter.widget-view+json": {
              "version_major": 2,
              "version_minor": 0,
              "model_id": "11f53e81023d4138953821aee469016c"
            }
          },
          "metadata": {}
        },
        {
          "output_type": "display_data",
          "data": {
            "text/plain": [
              "Map:   0%|          | 0/175 [00:00<?, ? examples/s]"
            ],
            "application/vnd.jupyter.widget-view+json": {
              "version_major": 2,
              "version_minor": 0,
              "model_id": "48fe2172c71d4eb5b0e2e02b79cae612"
            }
          },
          "metadata": {}
        }
      ],
      "source": [
        "#Tokenize all the data using the mapping functionality\n",
        "tokenized_datasets = main_dataset.map(tokenize_function)"
      ]
    },
    {
      "cell_type": "code",
      "execution_count": 40,
      "metadata": {
        "id": "le6-VKgSbzH9"
      },
      "outputs": [],
      "source": [
        "#remove the posts column as it is no longer needed\n",
        "tokenized_datasets = tokenized_datasets.remove_columns([\"articles\"])"
      ]
    },
    {
      "cell_type": "code",
      "execution_count": 41,
      "metadata": {
        "id": "H5z34a8Ob5W1"
      },
      "outputs": [],
      "source": [
        "#import torch\n",
        "import torch\n",
        "#import Data loader from torch\n",
        "from torch.utils.data import DataLoader\n",
        "#import an optimizer\n",
        "from torch.optim import AdamW\n",
        "#import tqdm for a progress bar\n",
        "from tqdm.auto import tqdm"
      ]
    },
    {
      "cell_type": "code",
      "execution_count": 42,
      "metadata": {
        "id": "qySNkYRPcKBY"
      },
      "outputs": [],
      "source": [
        "#changing the format of the tokenized dataset to torch\n",
        "tokenized_datasets.set_format(\"torch\")"
      ]
    },
    {
      "cell_type": "code",
      "execution_count": 43,
      "metadata": {
        "id": "O-QVp6q7ceuF"
      },
      "outputs": [],
      "source": [
        "#shuffeling and selecting the needed size of dataset for training and evaluating the model\n",
        "small_train_dataset = tokenized_datasets[\"train\"].shuffle(seed=42).select(range(training_data_size))\n",
        "small_test_dataset = tokenized_datasets[\"test\"].shuffle(seed=42).select(range(testing_data_size))\n",
        "small_eval_dataset = tokenized_datasets[\"evaluate\"].shuffle(seed=42).select(range(evaluation_data_size))"
      ]
    },
    {
      "cell_type": "code",
      "execution_count": 44,
      "metadata": {
        "colab": {
          "base_uri": "https://localhost:8080/"
        },
        "id": "2ViNnQwIciUy",
        "outputId": "1b17136c-6c9a-4865-db6f-5ec5b1478806"
      },
      "outputs": [
        {
          "output_type": "execute_result",
          "data": {
            "text/plain": [
              "Dataset({\n",
              "    features: ['labels', 'word_len', 'input_ids', 'token_type_ids', 'attention_mask'],\n",
              "    num_rows: 175\n",
              "})"
            ]
          },
          "metadata": {},
          "execution_count": 44
        }
      ],
      "source": [
        "# preview of the shuffeled and selected evaluation dataset\n",
        "small_eval_dataset"
      ]
    },
    {
      "cell_type": "code",
      "execution_count": 45,
      "metadata": {
        "id": "zGyiz-arcsxK"
      },
      "outputs": [],
      "source": [
        "train_dataloader = DataLoader(small_train_dataset, shuffle=True, batch_size=4)\n",
        "eval_dataloader = DataLoader(small_eval_dataset, batch_size=4)\n",
        "test_dataloader = DataLoader(small_test_dataset, batch_size=4)"
      ]
    },
    {
      "cell_type": "code",
      "execution_count": 46,
      "metadata": {
        "colab": {
          "base_uri": "https://localhost:8080/"
        },
        "id": "O5fOf7rzdE58",
        "outputId": "9e32cdc4-9116-42d8-b48f-846b8ab7e0e0"
      },
      "outputs": [
        {
          "output_type": "stream",
          "name": "stderr",
          "text": [
            "Some weights of BertForSequenceClassification were not initialized from the model checkpoint at Davlan/bert-base-multilingual-cased-finetuned-amharic and are newly initialized: ['bert.pooler.dense.weight', 'classifier.bias', 'bert.pooler.dense.bias', 'classifier.weight']\n",
            "You should probably TRAIN this model on a down-stream task to be able to use it for predictions and inference.\n"
          ]
        }
      ],
      "source": [
        "#Load auto mode classifier from the pretrained model\n",
        "from transformers import AutoModelForSequenceClassification\n",
        "model = AutoModelForSequenceClassification.from_pretrained(\"Davlan/bert-base-multilingual-cased-finetuned-amharic\", num_labels=7)"
      ]
    },
    {
      "cell_type": "code",
      "execution_count": 47,
      "metadata": {
        "colab": {
          "base_uri": "https://localhost:8080/"
        },
        "id": "beOvHvp7rWo5",
        "outputId": "747b436d-2e62-4b17-c199-cbd950706623"
      },
      "outputs": [
        {
          "output_type": "stream",
          "name": "stdout",
          "text": [
            "Training on GPU\n",
            "cuda:0\n"
          ]
        }
      ],
      "source": [
        "import torch\n",
        "\n",
        "device = torch.device(\"cpu\")\n",
        "\n",
        "if torch.cuda.is_available():\n",
        "   print(\"Training on GPU\")\n",
        "   device = torch.device(\"cuda:0\")\n",
        "print(device)"
      ]
    },
    {
      "cell_type": "code",
      "execution_count": 48,
      "metadata": {
        "id": "tQ9ZVsKXdRVf"
      },
      "outputs": [],
      "source": [
        "import numpy as np\n",
        "from datasets import load_metric\n",
        "#metric = load_metric(\"f1\",\"accuracy\")"
      ]
    },
    {
      "cell_type": "code",
      "execution_count": 49,
      "metadata": {
        "id": "_yNQ4Lxodl5o"
      },
      "outputs": [],
      "source": [
        "\n",
        "#def compute_metrics(eval_pred):\n",
        " #   logits, labels = eval_pred\n",
        "#    predictions = np.argmax(logits, axis=-1)\n",
        " #   return metric.compute(predictions=predictions, references=labels, average=\"weighted\")"
      ]
    },
    {
      "cell_type": "code",
      "source": [
        "! pip install -U accelerate\n",
        "! pip install -U transformers"
      ],
      "metadata": {
        "colab": {
          "base_uri": "https://localhost:8080/"
        },
        "id": "nHxTNtNJf_gF",
        "outputId": "5a5c61ec-d55a-4f07-f5ce-a98f48e3fcac"
      },
      "execution_count": 50,
      "outputs": [
        {
          "output_type": "stream",
          "name": "stdout",
          "text": [
            "Requirement already satisfied: accelerate in /usr/local/lib/python3.10/dist-packages (0.25.0)\n",
            "Requirement already satisfied: numpy>=1.17 in /usr/local/lib/python3.10/dist-packages (from accelerate) (1.23.5)\n",
            "Requirement already satisfied: packaging>=20.0 in /usr/local/lib/python3.10/dist-packages (from accelerate) (23.2)\n",
            "Requirement already satisfied: psutil in /usr/local/lib/python3.10/dist-packages (from accelerate) (5.9.5)\n",
            "Requirement already satisfied: pyyaml in /usr/local/lib/python3.10/dist-packages (from accelerate) (6.0.1)\n",
            "Requirement already satisfied: torch>=1.10.0 in /usr/local/lib/python3.10/dist-packages (from accelerate) (2.1.0+cu118)\n",
            "Requirement already satisfied: huggingface-hub in /usr/local/lib/python3.10/dist-packages (from accelerate) (0.19.4)\n",
            "Requirement already satisfied: safetensors>=0.3.1 in /usr/local/lib/python3.10/dist-packages (from accelerate) (0.4.1)\n",
            "Requirement already satisfied: filelock in /usr/local/lib/python3.10/dist-packages (from torch>=1.10.0->accelerate) (3.13.1)\n",
            "Requirement already satisfied: typing-extensions in /usr/local/lib/python3.10/dist-packages (from torch>=1.10.0->accelerate) (4.5.0)\n",
            "Requirement already satisfied: sympy in /usr/local/lib/python3.10/dist-packages (from torch>=1.10.0->accelerate) (1.12)\n",
            "Requirement already satisfied: networkx in /usr/local/lib/python3.10/dist-packages (from torch>=1.10.0->accelerate) (3.2.1)\n",
            "Requirement already satisfied: jinja2 in /usr/local/lib/python3.10/dist-packages (from torch>=1.10.0->accelerate) (3.1.2)\n",
            "Requirement already satisfied: fsspec in /usr/local/lib/python3.10/dist-packages (from torch>=1.10.0->accelerate) (2023.6.0)\n",
            "Requirement already satisfied: triton==2.1.0 in /usr/local/lib/python3.10/dist-packages (from torch>=1.10.0->accelerate) (2.1.0)\n",
            "Requirement already satisfied: requests in /usr/local/lib/python3.10/dist-packages (from huggingface-hub->accelerate) (2.31.0)\n",
            "Requirement already satisfied: tqdm>=4.42.1 in /usr/local/lib/python3.10/dist-packages (from huggingface-hub->accelerate) (4.66.1)\n",
            "Requirement already satisfied: MarkupSafe>=2.0 in /usr/local/lib/python3.10/dist-packages (from jinja2->torch>=1.10.0->accelerate) (2.1.3)\n",
            "Requirement already satisfied: charset-normalizer<4,>=2 in /usr/local/lib/python3.10/dist-packages (from requests->huggingface-hub->accelerate) (3.3.2)\n",
            "Requirement already satisfied: idna<4,>=2.5 in /usr/local/lib/python3.10/dist-packages (from requests->huggingface-hub->accelerate) (3.6)\n",
            "Requirement already satisfied: urllib3<3,>=1.21.1 in /usr/local/lib/python3.10/dist-packages (from requests->huggingface-hub->accelerate) (2.0.7)\n",
            "Requirement already satisfied: certifi>=2017.4.17 in /usr/local/lib/python3.10/dist-packages (from requests->huggingface-hub->accelerate) (2023.11.17)\n",
            "Requirement already satisfied: mpmath>=0.19 in /usr/local/lib/python3.10/dist-packages (from sympy->torch>=1.10.0->accelerate) (1.3.0)\n",
            "Requirement already satisfied: transformers in /usr/local/lib/python3.10/dist-packages (4.35.2)\n",
            "Requirement already satisfied: filelock in /usr/local/lib/python3.10/dist-packages (from transformers) (3.13.1)\n",
            "Requirement already satisfied: huggingface-hub<1.0,>=0.16.4 in /usr/local/lib/python3.10/dist-packages (from transformers) (0.19.4)\n",
            "Requirement already satisfied: numpy>=1.17 in /usr/local/lib/python3.10/dist-packages (from transformers) (1.23.5)\n",
            "Requirement already satisfied: packaging>=20.0 in /usr/local/lib/python3.10/dist-packages (from transformers) (23.2)\n",
            "Requirement already satisfied: pyyaml>=5.1 in /usr/local/lib/python3.10/dist-packages (from transformers) (6.0.1)\n",
            "Requirement already satisfied: regex!=2019.12.17 in /usr/local/lib/python3.10/dist-packages (from transformers) (2023.6.3)\n",
            "Requirement already satisfied: requests in /usr/local/lib/python3.10/dist-packages (from transformers) (2.31.0)\n",
            "Requirement already satisfied: tokenizers<0.19,>=0.14 in /usr/local/lib/python3.10/dist-packages (from transformers) (0.15.0)\n",
            "Requirement already satisfied: safetensors>=0.3.1 in /usr/local/lib/python3.10/dist-packages (from transformers) (0.4.1)\n",
            "Requirement already satisfied: tqdm>=4.27 in /usr/local/lib/python3.10/dist-packages (from transformers) (4.66.1)\n",
            "Requirement already satisfied: fsspec>=2023.5.0 in /usr/local/lib/python3.10/dist-packages (from huggingface-hub<1.0,>=0.16.4->transformers) (2023.6.0)\n",
            "Requirement already satisfied: typing-extensions>=3.7.4.3 in /usr/local/lib/python3.10/dist-packages (from huggingface-hub<1.0,>=0.16.4->transformers) (4.5.0)\n",
            "Requirement already satisfied: charset-normalizer<4,>=2 in /usr/local/lib/python3.10/dist-packages (from requests->transformers) (3.3.2)\n",
            "Requirement already satisfied: idna<4,>=2.5 in /usr/local/lib/python3.10/dist-packages (from requests->transformers) (3.6)\n",
            "Requirement already satisfied: urllib3<3,>=1.21.1 in /usr/local/lib/python3.10/dist-packages (from requests->transformers) (2.0.7)\n",
            "Requirement already satisfied: certifi>=2017.4.17 in /usr/local/lib/python3.10/dist-packages (from requests->transformers) (2023.11.17)\n"
          ]
        }
      ]
    },
    {
      "cell_type": "code",
      "execution_count": 51,
      "metadata": {
        "id": "0yUwjNCqjC1P"
      },
      "outputs": [],
      "source": [
        "# #load an optimizer\n",
        "# optimizer = AdamW(model.parameters(), lr=5e-5)\n",
        "from transformers import TrainingArguments\n",
        "\n",
        "training_args = TrainingArguments(output_dir=\"test_trainer\")"
      ]
    },
    {
      "cell_type": "code",
      "execution_count": 51,
      "metadata": {
        "id": "lj0-3deYu5gg"
      },
      "outputs": [],
      "source": []
    },
    {
      "cell_type": "code",
      "execution_count": 52,
      "metadata": {
        "colab": {
          "base_uri": "https://localhost:8080/",
          "height": 36
        },
        "id": "TTVlT1I9vqm4",
        "outputId": "3b5adfc9-9e1d-43f6-8749-b8c6e7917e87"
      },
      "outputs": [
        {
          "output_type": "execute_result",
          "data": {
            "text/plain": [
              "'0.25.0'"
            ],
            "application/vnd.google.colaboratory.intrinsic+json": {
              "type": "string"
            }
          },
          "metadata": {},
          "execution_count": 52
        }
      ],
      "source": [
        "import accelerate\n",
        "accelerate.__version__"
      ]
    },
    {
      "cell_type": "code",
      "execution_count": 53,
      "metadata": {
        "id": "lKqpO25FwBEa"
      },
      "outputs": [],
      "source": [
        "from transformers import TrainingArguments, Trainer\n",
        "from transformers import EarlyStoppingCallback, IntervalStrategy"
      ]
    },
    {
      "cell_type": "code",
      "source": [
        "def custom_metrics(eval_pred):\n",
        "    metric1 = load_metric(\"precision\")\n",
        "    metric2 = load_metric(\"recall\")\n",
        "    metric3 = load_metric(\"f1\")\n",
        "    metric4 = load_metric(\"accuracy\")\n",
        "\n",
        "    logits, labels = eval_pred\n",
        "    predictions = np.argmax(logits, axis=-1)\n",
        "\n",
        "    precision = metric1.compute(predictions=predictions, references=labels, average=\"weighted\")[\"precision\"]\n",
        "    recall = metric2.compute(predictions=predictions, references=labels, average=\"weighted\")[\"recall\"]\n",
        "    f1 = metric3.compute(predictions=predictions, references=labels, average=\"weighted\")[\"f1\"]\n",
        "    accuracy = metric4.compute(predictions=predictions, references=labels)[\"accuracy\"]\n",
        "\n",
        "    return {\"precision\": precision, \"recall\": recall, \"f1\": f1, \"accuracy\": accuracy}"
      ],
      "metadata": {
        "id": "ebJWpYe1yBPr"
      },
      "execution_count": 61,
      "outputs": []
    },
    {
      "cell_type": "code",
      "execution_count": 65,
      "metadata": {
        "id": "uB2S0wyydvmG"
      },
      "outputs": [],
      "source": [
        "# #load an optimizer\n",
        "# optimizer = AdamW(model.parameters(), lr=5e-5)\n",
        "training_args = TrainingArguments(\n",
        "   f\"training_with_callbacks\",\n",
        "   evaluation_strategy='epoch',\n",
        "   save_strategy='epoch',\n",
        "   num_train_epochs=10,              # total number of training epochs\n",
        "   per_device_train_batch_size=8,  # batch size per device during training\n",
        "   per_device_eval_batch_size=16,   # batch size for evaluation\n",
        "    warmup_steps=1000,                # number of warmup steps for learning rate\n",
        "    load_best_model_at_end= True,\n",
        "    weight_decay=0.01,               # strength of weight decay\n",
        "    logging_dir='./logs',            # directory for storing logs\n",
        "    logging_steps=20,\n",
        "\n",
        "   )"
      ]
    },
    {
      "cell_type": "code",
      "execution_count": 66,
      "metadata": {
        "id": "nGrZ8XQAwzz_"
      },
      "outputs": [],
      "source": [
        "trainer = Trainer(\n",
        "    model=model,\n",
        "    args=training_args,\n",
        "    train_dataset=small_train_dataset,\n",
        "    eval_dataset=small_eval_dataset,\n",
        "    compute_metrics=custom_metrics,\n",
        "    callbacks = [EarlyStoppingCallback(early_stopping_patience=10)],\n",
        ")"
      ]
    },
    {
      "cell_type": "code",
      "source": [
        "import torch\n",
        "torch.cuda.empty_cache()\n"
      ],
      "metadata": {
        "id": "JQp_8yZE2o3O"
      },
      "execution_count": 67,
      "outputs": []
    },
    {
      "cell_type": "code",
      "execution_count": 68,
      "metadata": {
        "id": "jwv8aL2oxM9a",
        "colab": {
          "base_uri": "https://localhost:8080/",
          "height": 766
        },
        "outputId": "ecaf364c-223c-4e09-e085-972f69c876c4"
      },
      "outputs": [
        {
          "data": {
            "text/html": [
              "\n",
              "    <div>\n",
              "      \n",
              "      <progress value='2170' max='2210' style='width:300px; height:20px; vertical-align: middle;'></progress>\n",
              "      [2170/2210 30:47 < 00:34, 1.17 it/s, Epoch 9.81/10]\n",
              "    </div>\n",
              "    <table border=\"1\" class=\"dataframe\">\n",
              "  <thead>\n",
              " <tr style=\"text-align: left;\">\n",
              "      <th>Epoch</th>\n",
              "      <th>Training Loss</th>\n",
              "      <th>Validation Loss</th>\n",
              "      <th>Precision</th>\n",
              "      <th>Recall</th>\n",
              "      <th>F1</th>\n",
              "      <th>Accuracy</th>\n",
              "    </tr>\n",
              "  </thead>\n",
              "  <tbody>\n",
              "    <tr>\n",
              "      <td>1</td>\n",
              "      <td>0.272200</td>\n",
              "      <td>0.249248</td>\n",
              "      <td>0.930181</td>\n",
              "      <td>0.925714</td>\n",
              "      <td>0.925948</td>\n",
              "      <td>0.925714</td>\n",
              "    </tr>\n",
              "    <tr>\n",
              "      <td>2</td>\n",
              "      <td>0.244900</td>\n",
              "      <td>0.260343</td>\n",
              "      <td>0.936016</td>\n",
              "      <td>0.931429</td>\n",
              "      <td>0.931985</td>\n",
              "      <td>0.931429</td>\n",
              "    </tr>\n",
              "    <tr>\n",
              "      <td>3</td>\n",
              "      <td>0.266800</td>\n",
              "      <td>0.348453</td>\n",
              "      <td>0.918658</td>\n",
              "      <td>0.902857</td>\n",
              "      <td>0.903937</td>\n",
              "      <td>0.902857</td>\n",
              "    </tr>\n",
              "    <tr>\n",
              "      <td>4</td>\n",
              "      <td>0.489900</td>\n",
              "      <td>0.719797</td>\n",
              "      <td>0.812885</td>\n",
              "      <td>0.760000</td>\n",
              "      <td>0.764664</td>\n",
              "      <td>0.760000</td>\n",
              "    </tr>\n",
              "    <tr>\n",
              "      <td>5</td>\n",
              "      <td>0.393200</td>\n",
              "      <td>0.256520</td>\n",
              "      <td>0.941478</td>\n",
              "      <td>0.937143</td>\n",
              "      <td>0.935701</td>\n",
              "      <td>0.937143</td>\n",
              "    </tr>\n",
              "    <tr>\n",
              "      <td>6</td>\n",
              "      <td>0.154000</td>\n",
              "      <td>0.299731</td>\n",
              "      <td>0.949055</td>\n",
              "      <td>0.942857</td>\n",
              "      <td>0.943073</td>\n",
              "      <td>0.942857</td>\n",
              "    </tr>\n",
              "    <tr>\n",
              "      <td>7</td>\n",
              "      <td>0.084900</td>\n",
              "      <td>0.145485</td>\n",
              "      <td>0.978558</td>\n",
              "      <td>0.977143</td>\n",
              "      <td>0.977189</td>\n",
              "      <td>0.977143</td>\n",
              "    </tr>\n",
              "    <tr>\n",
              "      <td>8</td>\n",
              "      <td>0.074600</td>\n",
              "      <td>0.069504</td>\n",
              "      <td>0.989103</td>\n",
              "      <td>0.988571</td>\n",
              "      <td>0.988609</td>\n",
              "      <td>0.988571</td>\n",
              "    </tr>\n",
              "    <tr>\n",
              "      <td>9</td>\n",
              "      <td>0.014700</td>\n",
              "      <td>0.093902</td>\n",
              "      <td>0.972965</td>\n",
              "      <td>0.971429</td>\n",
              "      <td>0.971494</td>\n",
              "      <td>0.971429</td>\n",
              "    </tr>\n",
              "  </tbody>\n",
              "</table><p>"
            ],
            "text/plain": [
              "<IPython.core.display.HTML object>"
            ]
          },
          "metadata": {},
          "output_type": "display_data"
        },
        {
          "output_type": "display_data",
          "data": {
            "text/plain": [
              "<IPython.core.display.HTML object>"
            ],
            "text/html": [
              "\n",
              "    <div>\n",
              "      \n",
              "      <progress value='2210' max='2210' style='width:300px; height:20px; vertical-align: middle;'></progress>\n",
              "      [2210/2210 31:42, Epoch 10/10]\n",
              "    </div>\n",
              "    <table border=\"1\" class=\"dataframe\">\n",
              "  <thead>\n",
              " <tr style=\"text-align: left;\">\n",
              "      <th>Epoch</th>\n",
              "      <th>Training Loss</th>\n",
              "      <th>Validation Loss</th>\n",
              "      <th>Precision</th>\n",
              "      <th>Recall</th>\n",
              "      <th>F1</th>\n",
              "      <th>Accuracy</th>\n",
              "    </tr>\n",
              "  </thead>\n",
              "  <tbody>\n",
              "    <tr>\n",
              "      <td>1</td>\n",
              "      <td>0.272200</td>\n",
              "      <td>0.249248</td>\n",
              "      <td>0.930181</td>\n",
              "      <td>0.925714</td>\n",
              "      <td>0.925948</td>\n",
              "      <td>0.925714</td>\n",
              "    </tr>\n",
              "    <tr>\n",
              "      <td>2</td>\n",
              "      <td>0.244900</td>\n",
              "      <td>0.260343</td>\n",
              "      <td>0.936016</td>\n",
              "      <td>0.931429</td>\n",
              "      <td>0.931985</td>\n",
              "      <td>0.931429</td>\n",
              "    </tr>\n",
              "    <tr>\n",
              "      <td>3</td>\n",
              "      <td>0.266800</td>\n",
              "      <td>0.348453</td>\n",
              "      <td>0.918658</td>\n",
              "      <td>0.902857</td>\n",
              "      <td>0.903937</td>\n",
              "      <td>0.902857</td>\n",
              "    </tr>\n",
              "    <tr>\n",
              "      <td>4</td>\n",
              "      <td>0.489900</td>\n",
              "      <td>0.719797</td>\n",
              "      <td>0.812885</td>\n",
              "      <td>0.760000</td>\n",
              "      <td>0.764664</td>\n",
              "      <td>0.760000</td>\n",
              "    </tr>\n",
              "    <tr>\n",
              "      <td>5</td>\n",
              "      <td>0.393200</td>\n",
              "      <td>0.256520</td>\n",
              "      <td>0.941478</td>\n",
              "      <td>0.937143</td>\n",
              "      <td>0.935701</td>\n",
              "      <td>0.937143</td>\n",
              "    </tr>\n",
              "    <tr>\n",
              "      <td>6</td>\n",
              "      <td>0.154000</td>\n",
              "      <td>0.299731</td>\n",
              "      <td>0.949055</td>\n",
              "      <td>0.942857</td>\n",
              "      <td>0.943073</td>\n",
              "      <td>0.942857</td>\n",
              "    </tr>\n",
              "    <tr>\n",
              "      <td>7</td>\n",
              "      <td>0.084900</td>\n",
              "      <td>0.145485</td>\n",
              "      <td>0.978558</td>\n",
              "      <td>0.977143</td>\n",
              "      <td>0.977189</td>\n",
              "      <td>0.977143</td>\n",
              "    </tr>\n",
              "    <tr>\n",
              "      <td>8</td>\n",
              "      <td>0.074600</td>\n",
              "      <td>0.069504</td>\n",
              "      <td>0.989103</td>\n",
              "      <td>0.988571</td>\n",
              "      <td>0.988609</td>\n",
              "      <td>0.988571</td>\n",
              "    </tr>\n",
              "    <tr>\n",
              "      <td>9</td>\n",
              "      <td>0.014700</td>\n",
              "      <td>0.093902</td>\n",
              "      <td>0.972965</td>\n",
              "      <td>0.971429</td>\n",
              "      <td>0.971494</td>\n",
              "      <td>0.971429</td>\n",
              "    </tr>\n",
              "    <tr>\n",
              "      <td>10</td>\n",
              "      <td>0.033700</td>\n",
              "      <td>0.075105</td>\n",
              "      <td>0.972405</td>\n",
              "      <td>0.971429</td>\n",
              "      <td>0.971209</td>\n",
              "      <td>0.971429</td>\n",
              "    </tr>\n",
              "  </tbody>\n",
              "</table><p>"
            ]
          },
          "metadata": {}
        },
        {
          "output_type": "execute_result",
          "data": {
            "text/plain": [
              "TrainOutput(global_step=2210, training_loss=0.22949872776461402, metrics={'train_runtime': 1903.1399, 'train_samples_per_second': 9.264, 'train_steps_per_second': 1.161, 'total_flos': 4638856148736000.0, 'train_loss': 0.22949872776461402, 'epoch': 10.0})"
            ]
          },
          "metadata": {},
          "execution_count": 68
        }
      ],
      "source": [
        "trainer.train()"
      ]
    },
    {
      "cell_type": "code",
      "source": [],
      "metadata": {
        "id": "S3jNHyg_EFD6"
      },
      "execution_count": null,
      "outputs": []
    },
    {
      "cell_type": "code",
      "execution_count": 69,
      "metadata": {
        "id": "ueMmTxw41Ppl",
        "colab": {
          "base_uri": "https://localhost:8080/",
          "height": 203
        },
        "outputId": "e4b4ab6b-67af-4560-e238-466feba1a0b9"
      },
      "outputs": [
        {
          "output_type": "display_data",
          "data": {
            "text/plain": [
              "<IPython.core.display.HTML object>"
            ],
            "text/html": [
              "\n",
              "    <div>\n",
              "      \n",
              "      <progress value='27' max='27' style='width:300px; height:20px; vertical-align: middle;'></progress>\n",
              "      [27/27 00:12]\n",
              "    </div>\n",
              "    "
            ]
          },
          "metadata": {}
        },
        {
          "output_type": "execute_result",
          "data": {
            "text/plain": [
              "{'eval_loss': 0.7890000343322754,\n",
              " 'eval_precision': 0.8629382027544774,\n",
              " 'eval_recall': 0.861244019138756,\n",
              " 'eval_f1': 0.8583968353990751,\n",
              " 'eval_accuracy': 0.861244019138756,\n",
              " 'eval_runtime': 17.1555,\n",
              " 'eval_samples_per_second': 24.365,\n",
              " 'eval_steps_per_second': 1.574,\n",
              " 'epoch': 10.0}"
            ]
          },
          "metadata": {},
          "execution_count": 69
        }
      ],
      "source": [
        "trainer.evaluate(small_test_dataset)"
      ]
    },
    {
      "cell_type": "markdown",
      "metadata": {
        "id": "ZxacSQllog4C"
      },
      "source": [
        "# New Section"
      ]
    }
  ],
  "metadata": {
    "accelerator": "GPU",
    "colab": {
      "provenance": [],
      "authorship_tag": "ABX9TyPjDy1dPDE5JZ/EsrN8vVLz",
      "include_colab_link": true
    },
    "kernelspec": {
      "display_name": "Python 3",
      "name": "python3"
    },
    "language_info": {
      "name": "python"
    },
    "widgets": {
      "application/vnd.jupyter.widget-state+json": {
        "588a71a1e81d4b7e96c38619b9d876d9": {
          "model_module": "@jupyter-widgets/controls",
          "model_name": "HBoxModel",
          "model_module_version": "1.5.0",
          "state": {
            "_dom_classes": [],
            "_model_module": "@jupyter-widgets/controls",
            "_model_module_version": "1.5.0",
            "_model_name": "HBoxModel",
            "_view_count": null,
            "_view_module": "@jupyter-widgets/controls",
            "_view_module_version": "1.5.0",
            "_view_name": "HBoxView",
            "box_style": "",
            "children": [
              "IPY_MODEL_d5f92a871f524725abdb7f216e51f624",
              "IPY_MODEL_a0b77fe53ea642d58c9a44ed4a691c3e",
              "IPY_MODEL_738cd2a8a29c4aa5a0c52dec53397cc8"
            ],
            "layout": "IPY_MODEL_03e34ba65f8d4001b64c8d43f91d2547"
          }
        },
        "d5f92a871f524725abdb7f216e51f624": {
          "model_module": "@jupyter-widgets/controls",
          "model_name": "HTMLModel",
          "model_module_version": "1.5.0",
          "state": {
            "_dom_classes": [],
            "_model_module": "@jupyter-widgets/controls",
            "_model_module_version": "1.5.0",
            "_model_name": "HTMLModel",
            "_view_count": null,
            "_view_module": "@jupyter-widgets/controls",
            "_view_module_version": "1.5.0",
            "_view_name": "HTMLView",
            "description": "",
            "description_tooltip": null,
            "layout": "IPY_MODEL_784f3eba7eef4af6858bbfdc7526132a",
            "placeholder": "​",
            "style": "IPY_MODEL_686f8af7da5a45599fcf91886fa43ea1",
            "value": "Map: 100%"
          }
        },
        "a0b77fe53ea642d58c9a44ed4a691c3e": {
          "model_module": "@jupyter-widgets/controls",
          "model_name": "FloatProgressModel",
          "model_module_version": "1.5.0",
          "state": {
            "_dom_classes": [],
            "_model_module": "@jupyter-widgets/controls",
            "_model_module_version": "1.5.0",
            "_model_name": "FloatProgressModel",
            "_view_count": null,
            "_view_module": "@jupyter-widgets/controls",
            "_view_module_version": "1.5.0",
            "_view_name": "ProgressView",
            "bar_style": "success",
            "description": "",
            "description_tooltip": null,
            "layout": "IPY_MODEL_262b196648cc48729424a34605ca9b4a",
            "max": 1763,
            "min": 0,
            "orientation": "horizontal",
            "style": "IPY_MODEL_b7eeb7bc2b214b14b992f74c689775ef",
            "value": 1763
          }
        },
        "738cd2a8a29c4aa5a0c52dec53397cc8": {
          "model_module": "@jupyter-widgets/controls",
          "model_name": "HTMLModel",
          "model_module_version": "1.5.0",
          "state": {
            "_dom_classes": [],
            "_model_module": "@jupyter-widgets/controls",
            "_model_module_version": "1.5.0",
            "_model_name": "HTMLModel",
            "_view_count": null,
            "_view_module": "@jupyter-widgets/controls",
            "_view_module_version": "1.5.0",
            "_view_name": "HTMLView",
            "description": "",
            "description_tooltip": null,
            "layout": "IPY_MODEL_9a3d72e4be8b44f7a147c72ef3a87ed2",
            "placeholder": "​",
            "style": "IPY_MODEL_4e0b82803dc347fb93cb701b602fc059",
            "value": " 1763/1763 [00:06&lt;00:00, 310.98 examples/s]"
          }
        },
        "03e34ba65f8d4001b64c8d43f91d2547": {
          "model_module": "@jupyter-widgets/base",
          "model_name": "LayoutModel",
          "model_module_version": "1.2.0",
          "state": {
            "_model_module": "@jupyter-widgets/base",
            "_model_module_version": "1.2.0",
            "_model_name": "LayoutModel",
            "_view_count": null,
            "_view_module": "@jupyter-widgets/base",
            "_view_module_version": "1.2.0",
            "_view_name": "LayoutView",
            "align_content": null,
            "align_items": null,
            "align_self": null,
            "border": null,
            "bottom": null,
            "display": null,
            "flex": null,
            "flex_flow": null,
            "grid_area": null,
            "grid_auto_columns": null,
            "grid_auto_flow": null,
            "grid_auto_rows": null,
            "grid_column": null,
            "grid_gap": null,
            "grid_row": null,
            "grid_template_areas": null,
            "grid_template_columns": null,
            "grid_template_rows": null,
            "height": null,
            "justify_content": null,
            "justify_items": null,
            "left": null,
            "margin": null,
            "max_height": null,
            "max_width": null,
            "min_height": null,
            "min_width": null,
            "object_fit": null,
            "object_position": null,
            "order": null,
            "overflow": null,
            "overflow_x": null,
            "overflow_y": null,
            "padding": null,
            "right": null,
            "top": null,
            "visibility": null,
            "width": null
          }
        },
        "784f3eba7eef4af6858bbfdc7526132a": {
          "model_module": "@jupyter-widgets/base",
          "model_name": "LayoutModel",
          "model_module_version": "1.2.0",
          "state": {
            "_model_module": "@jupyter-widgets/base",
            "_model_module_version": "1.2.0",
            "_model_name": "LayoutModel",
            "_view_count": null,
            "_view_module": "@jupyter-widgets/base",
            "_view_module_version": "1.2.0",
            "_view_name": "LayoutView",
            "align_content": null,
            "align_items": null,
            "align_self": null,
            "border": null,
            "bottom": null,
            "display": null,
            "flex": null,
            "flex_flow": null,
            "grid_area": null,
            "grid_auto_columns": null,
            "grid_auto_flow": null,
            "grid_auto_rows": null,
            "grid_column": null,
            "grid_gap": null,
            "grid_row": null,
            "grid_template_areas": null,
            "grid_template_columns": null,
            "grid_template_rows": null,
            "height": null,
            "justify_content": null,
            "justify_items": null,
            "left": null,
            "margin": null,
            "max_height": null,
            "max_width": null,
            "min_height": null,
            "min_width": null,
            "object_fit": null,
            "object_position": null,
            "order": null,
            "overflow": null,
            "overflow_x": null,
            "overflow_y": null,
            "padding": null,
            "right": null,
            "top": null,
            "visibility": null,
            "width": null
          }
        },
        "686f8af7da5a45599fcf91886fa43ea1": {
          "model_module": "@jupyter-widgets/controls",
          "model_name": "DescriptionStyleModel",
          "model_module_version": "1.5.0",
          "state": {
            "_model_module": "@jupyter-widgets/controls",
            "_model_module_version": "1.5.0",
            "_model_name": "DescriptionStyleModel",
            "_view_count": null,
            "_view_module": "@jupyter-widgets/base",
            "_view_module_version": "1.2.0",
            "_view_name": "StyleView",
            "description_width": ""
          }
        },
        "262b196648cc48729424a34605ca9b4a": {
          "model_module": "@jupyter-widgets/base",
          "model_name": "LayoutModel",
          "model_module_version": "1.2.0",
          "state": {
            "_model_module": "@jupyter-widgets/base",
            "_model_module_version": "1.2.0",
            "_model_name": "LayoutModel",
            "_view_count": null,
            "_view_module": "@jupyter-widgets/base",
            "_view_module_version": "1.2.0",
            "_view_name": "LayoutView",
            "align_content": null,
            "align_items": null,
            "align_self": null,
            "border": null,
            "bottom": null,
            "display": null,
            "flex": null,
            "flex_flow": null,
            "grid_area": null,
            "grid_auto_columns": null,
            "grid_auto_flow": null,
            "grid_auto_rows": null,
            "grid_column": null,
            "grid_gap": null,
            "grid_row": null,
            "grid_template_areas": null,
            "grid_template_columns": null,
            "grid_template_rows": null,
            "height": null,
            "justify_content": null,
            "justify_items": null,
            "left": null,
            "margin": null,
            "max_height": null,
            "max_width": null,
            "min_height": null,
            "min_width": null,
            "object_fit": null,
            "object_position": null,
            "order": null,
            "overflow": null,
            "overflow_x": null,
            "overflow_y": null,
            "padding": null,
            "right": null,
            "top": null,
            "visibility": null,
            "width": null
          }
        },
        "b7eeb7bc2b214b14b992f74c689775ef": {
          "model_module": "@jupyter-widgets/controls",
          "model_name": "ProgressStyleModel",
          "model_module_version": "1.5.0",
          "state": {
            "_model_module": "@jupyter-widgets/controls",
            "_model_module_version": "1.5.0",
            "_model_name": "ProgressStyleModel",
            "_view_count": null,
            "_view_module": "@jupyter-widgets/base",
            "_view_module_version": "1.2.0",
            "_view_name": "StyleView",
            "bar_color": null,
            "description_width": ""
          }
        },
        "9a3d72e4be8b44f7a147c72ef3a87ed2": {
          "model_module": "@jupyter-widgets/base",
          "model_name": "LayoutModel",
          "model_module_version": "1.2.0",
          "state": {
            "_model_module": "@jupyter-widgets/base",
            "_model_module_version": "1.2.0",
            "_model_name": "LayoutModel",
            "_view_count": null,
            "_view_module": "@jupyter-widgets/base",
            "_view_module_version": "1.2.0",
            "_view_name": "LayoutView",
            "align_content": null,
            "align_items": null,
            "align_self": null,
            "border": null,
            "bottom": null,
            "display": null,
            "flex": null,
            "flex_flow": null,
            "grid_area": null,
            "grid_auto_columns": null,
            "grid_auto_flow": null,
            "grid_auto_rows": null,
            "grid_column": null,
            "grid_gap": null,
            "grid_row": null,
            "grid_template_areas": null,
            "grid_template_columns": null,
            "grid_template_rows": null,
            "height": null,
            "justify_content": null,
            "justify_items": null,
            "left": null,
            "margin": null,
            "max_height": null,
            "max_width": null,
            "min_height": null,
            "min_width": null,
            "object_fit": null,
            "object_position": null,
            "order": null,
            "overflow": null,
            "overflow_x": null,
            "overflow_y": null,
            "padding": null,
            "right": null,
            "top": null,
            "visibility": null,
            "width": null
          }
        },
        "4e0b82803dc347fb93cb701b602fc059": {
          "model_module": "@jupyter-widgets/controls",
          "model_name": "DescriptionStyleModel",
          "model_module_version": "1.5.0",
          "state": {
            "_model_module": "@jupyter-widgets/controls",
            "_model_module_version": "1.5.0",
            "_model_name": "DescriptionStyleModel",
            "_view_count": null,
            "_view_module": "@jupyter-widgets/base",
            "_view_module_version": "1.2.0",
            "_view_name": "StyleView",
            "description_width": ""
          }
        },
        "11f53e81023d4138953821aee469016c": {
          "model_module": "@jupyter-widgets/controls",
          "model_name": "HBoxModel",
          "model_module_version": "1.5.0",
          "state": {
            "_dom_classes": [],
            "_model_module": "@jupyter-widgets/controls",
            "_model_module_version": "1.5.0",
            "_model_name": "HBoxModel",
            "_view_count": null,
            "_view_module": "@jupyter-widgets/controls",
            "_view_module_version": "1.5.0",
            "_view_name": "HBoxView",
            "box_style": "",
            "children": [
              "IPY_MODEL_a03c97763df54926b9bb00596a903776",
              "IPY_MODEL_e23416e0eefa44a2905c26952d1332eb",
              "IPY_MODEL_55d0531b281d48cbb338d2ab99e10a52"
            ],
            "layout": "IPY_MODEL_f0d9f6ef21d143b486d233b4dbba7fa3"
          }
        },
        "a03c97763df54926b9bb00596a903776": {
          "model_module": "@jupyter-widgets/controls",
          "model_name": "HTMLModel",
          "model_module_version": "1.5.0",
          "state": {
            "_dom_classes": [],
            "_model_module": "@jupyter-widgets/controls",
            "_model_module_version": "1.5.0",
            "_model_name": "HTMLModel",
            "_view_count": null,
            "_view_module": "@jupyter-widgets/controls",
            "_view_module_version": "1.5.0",
            "_view_name": "HTMLView",
            "description": "",
            "description_tooltip": null,
            "layout": "IPY_MODEL_3f73a64d025b4773a4150f5d595a7410",
            "placeholder": "​",
            "style": "IPY_MODEL_bba0476634a547ff8edf1f4391be8327",
            "value": "Map: 100%"
          }
        },
        "e23416e0eefa44a2905c26952d1332eb": {
          "model_module": "@jupyter-widgets/controls",
          "model_name": "FloatProgressModel",
          "model_module_version": "1.5.0",
          "state": {
            "_dom_classes": [],
            "_model_module": "@jupyter-widgets/controls",
            "_model_module_version": "1.5.0",
            "_model_name": "FloatProgressModel",
            "_view_count": null,
            "_view_module": "@jupyter-widgets/controls",
            "_view_module_version": "1.5.0",
            "_view_name": "ProgressView",
            "bar_style": "success",
            "description": "",
            "description_tooltip": null,
            "layout": "IPY_MODEL_c2502c6dc5354e56816ce64dc511833b",
            "max": 418,
            "min": 0,
            "orientation": "horizontal",
            "style": "IPY_MODEL_2886e94362dd4d7cb365e9168f564c08",
            "value": 418
          }
        },
        "55d0531b281d48cbb338d2ab99e10a52": {
          "model_module": "@jupyter-widgets/controls",
          "model_name": "HTMLModel",
          "model_module_version": "1.5.0",
          "state": {
            "_dom_classes": [],
            "_model_module": "@jupyter-widgets/controls",
            "_model_module_version": "1.5.0",
            "_model_name": "HTMLModel",
            "_view_count": null,
            "_view_module": "@jupyter-widgets/controls",
            "_view_module_version": "1.5.0",
            "_view_name": "HTMLView",
            "description": "",
            "description_tooltip": null,
            "layout": "IPY_MODEL_4e0d9af76b454a18a1263c102ec0560c",
            "placeholder": "​",
            "style": "IPY_MODEL_d54bbdb92f264598925dd6590eee740d",
            "value": " 418/418 [00:01&lt;00:00, 282.67 examples/s]"
          }
        },
        "f0d9f6ef21d143b486d233b4dbba7fa3": {
          "model_module": "@jupyter-widgets/base",
          "model_name": "LayoutModel",
          "model_module_version": "1.2.0",
          "state": {
            "_model_module": "@jupyter-widgets/base",
            "_model_module_version": "1.2.0",
            "_model_name": "LayoutModel",
            "_view_count": null,
            "_view_module": "@jupyter-widgets/base",
            "_view_module_version": "1.2.0",
            "_view_name": "LayoutView",
            "align_content": null,
            "align_items": null,
            "align_self": null,
            "border": null,
            "bottom": null,
            "display": null,
            "flex": null,
            "flex_flow": null,
            "grid_area": null,
            "grid_auto_columns": null,
            "grid_auto_flow": null,
            "grid_auto_rows": null,
            "grid_column": null,
            "grid_gap": null,
            "grid_row": null,
            "grid_template_areas": null,
            "grid_template_columns": null,
            "grid_template_rows": null,
            "height": null,
            "justify_content": null,
            "justify_items": null,
            "left": null,
            "margin": null,
            "max_height": null,
            "max_width": null,
            "min_height": null,
            "min_width": null,
            "object_fit": null,
            "object_position": null,
            "order": null,
            "overflow": null,
            "overflow_x": null,
            "overflow_y": null,
            "padding": null,
            "right": null,
            "top": null,
            "visibility": null,
            "width": null
          }
        },
        "3f73a64d025b4773a4150f5d595a7410": {
          "model_module": "@jupyter-widgets/base",
          "model_name": "LayoutModel",
          "model_module_version": "1.2.0",
          "state": {
            "_model_module": "@jupyter-widgets/base",
            "_model_module_version": "1.2.0",
            "_model_name": "LayoutModel",
            "_view_count": null,
            "_view_module": "@jupyter-widgets/base",
            "_view_module_version": "1.2.0",
            "_view_name": "LayoutView",
            "align_content": null,
            "align_items": null,
            "align_self": null,
            "border": null,
            "bottom": null,
            "display": null,
            "flex": null,
            "flex_flow": null,
            "grid_area": null,
            "grid_auto_columns": null,
            "grid_auto_flow": null,
            "grid_auto_rows": null,
            "grid_column": null,
            "grid_gap": null,
            "grid_row": null,
            "grid_template_areas": null,
            "grid_template_columns": null,
            "grid_template_rows": null,
            "height": null,
            "justify_content": null,
            "justify_items": null,
            "left": null,
            "margin": null,
            "max_height": null,
            "max_width": null,
            "min_height": null,
            "min_width": null,
            "object_fit": null,
            "object_position": null,
            "order": null,
            "overflow": null,
            "overflow_x": null,
            "overflow_y": null,
            "padding": null,
            "right": null,
            "top": null,
            "visibility": null,
            "width": null
          }
        },
        "bba0476634a547ff8edf1f4391be8327": {
          "model_module": "@jupyter-widgets/controls",
          "model_name": "DescriptionStyleModel",
          "model_module_version": "1.5.0",
          "state": {
            "_model_module": "@jupyter-widgets/controls",
            "_model_module_version": "1.5.0",
            "_model_name": "DescriptionStyleModel",
            "_view_count": null,
            "_view_module": "@jupyter-widgets/base",
            "_view_module_version": "1.2.0",
            "_view_name": "StyleView",
            "description_width": ""
          }
        },
        "c2502c6dc5354e56816ce64dc511833b": {
          "model_module": "@jupyter-widgets/base",
          "model_name": "LayoutModel",
          "model_module_version": "1.2.0",
          "state": {
            "_model_module": "@jupyter-widgets/base",
            "_model_module_version": "1.2.0",
            "_model_name": "LayoutModel",
            "_view_count": null,
            "_view_module": "@jupyter-widgets/base",
            "_view_module_version": "1.2.0",
            "_view_name": "LayoutView",
            "align_content": null,
            "align_items": null,
            "align_self": null,
            "border": null,
            "bottom": null,
            "display": null,
            "flex": null,
            "flex_flow": null,
            "grid_area": null,
            "grid_auto_columns": null,
            "grid_auto_flow": null,
            "grid_auto_rows": null,
            "grid_column": null,
            "grid_gap": null,
            "grid_row": null,
            "grid_template_areas": null,
            "grid_template_columns": null,
            "grid_template_rows": null,
            "height": null,
            "justify_content": null,
            "justify_items": null,
            "left": null,
            "margin": null,
            "max_height": null,
            "max_width": null,
            "min_height": null,
            "min_width": null,
            "object_fit": null,
            "object_position": null,
            "order": null,
            "overflow": null,
            "overflow_x": null,
            "overflow_y": null,
            "padding": null,
            "right": null,
            "top": null,
            "visibility": null,
            "width": null
          }
        },
        "2886e94362dd4d7cb365e9168f564c08": {
          "model_module": "@jupyter-widgets/controls",
          "model_name": "ProgressStyleModel",
          "model_module_version": "1.5.0",
          "state": {
            "_model_module": "@jupyter-widgets/controls",
            "_model_module_version": "1.5.0",
            "_model_name": "ProgressStyleModel",
            "_view_count": null,
            "_view_module": "@jupyter-widgets/base",
            "_view_module_version": "1.2.0",
            "_view_name": "StyleView",
            "bar_color": null,
            "description_width": ""
          }
        },
        "4e0d9af76b454a18a1263c102ec0560c": {
          "model_module": "@jupyter-widgets/base",
          "model_name": "LayoutModel",
          "model_module_version": "1.2.0",
          "state": {
            "_model_module": "@jupyter-widgets/base",
            "_model_module_version": "1.2.0",
            "_model_name": "LayoutModel",
            "_view_count": null,
            "_view_module": "@jupyter-widgets/base",
            "_view_module_version": "1.2.0",
            "_view_name": "LayoutView",
            "align_content": null,
            "align_items": null,
            "align_self": null,
            "border": null,
            "bottom": null,
            "display": null,
            "flex": null,
            "flex_flow": null,
            "grid_area": null,
            "grid_auto_columns": null,
            "grid_auto_flow": null,
            "grid_auto_rows": null,
            "grid_column": null,
            "grid_gap": null,
            "grid_row": null,
            "grid_template_areas": null,
            "grid_template_columns": null,
            "grid_template_rows": null,
            "height": null,
            "justify_content": null,
            "justify_items": null,
            "left": null,
            "margin": null,
            "max_height": null,
            "max_width": null,
            "min_height": null,
            "min_width": null,
            "object_fit": null,
            "object_position": null,
            "order": null,
            "overflow": null,
            "overflow_x": null,
            "overflow_y": null,
            "padding": null,
            "right": null,
            "top": null,
            "visibility": null,
            "width": null
          }
        },
        "d54bbdb92f264598925dd6590eee740d": {
          "model_module": "@jupyter-widgets/controls",
          "model_name": "DescriptionStyleModel",
          "model_module_version": "1.5.0",
          "state": {
            "_model_module": "@jupyter-widgets/controls",
            "_model_module_version": "1.5.0",
            "_model_name": "DescriptionStyleModel",
            "_view_count": null,
            "_view_module": "@jupyter-widgets/base",
            "_view_module_version": "1.2.0",
            "_view_name": "StyleView",
            "description_width": ""
          }
        },
        "48fe2172c71d4eb5b0e2e02b79cae612": {
          "model_module": "@jupyter-widgets/controls",
          "model_name": "HBoxModel",
          "model_module_version": "1.5.0",
          "state": {
            "_dom_classes": [],
            "_model_module": "@jupyter-widgets/controls",
            "_model_module_version": "1.5.0",
            "_model_name": "HBoxModel",
            "_view_count": null,
            "_view_module": "@jupyter-widgets/controls",
            "_view_module_version": "1.5.0",
            "_view_name": "HBoxView",
            "box_style": "",
            "children": [
              "IPY_MODEL_6e54067f50cd4f4b91b55d4c21595e44",
              "IPY_MODEL_7f5d281176fb418ab19ec488432c7349",
              "IPY_MODEL_cf1d760999564ab7b49cea33e2ec2173"
            ],
            "layout": "IPY_MODEL_ffda34834a6b4f97996ec79ab5c84cb8"
          }
        },
        "6e54067f50cd4f4b91b55d4c21595e44": {
          "model_module": "@jupyter-widgets/controls",
          "model_name": "HTMLModel",
          "model_module_version": "1.5.0",
          "state": {
            "_dom_classes": [],
            "_model_module": "@jupyter-widgets/controls",
            "_model_module_version": "1.5.0",
            "_model_name": "HTMLModel",
            "_view_count": null,
            "_view_module": "@jupyter-widgets/controls",
            "_view_module_version": "1.5.0",
            "_view_name": "HTMLView",
            "description": "",
            "description_tooltip": null,
            "layout": "IPY_MODEL_b2bc98cb4ecd4df9b63d6aa756b7357e",
            "placeholder": "​",
            "style": "IPY_MODEL_10349a62e28d4eadb77716319a13007c",
            "value": "Map: 100%"
          }
        },
        "7f5d281176fb418ab19ec488432c7349": {
          "model_module": "@jupyter-widgets/controls",
          "model_name": "FloatProgressModel",
          "model_module_version": "1.5.0",
          "state": {
            "_dom_classes": [],
            "_model_module": "@jupyter-widgets/controls",
            "_model_module_version": "1.5.0",
            "_model_name": "FloatProgressModel",
            "_view_count": null,
            "_view_module": "@jupyter-widgets/controls",
            "_view_module_version": "1.5.0",
            "_view_name": "ProgressView",
            "bar_style": "success",
            "description": "",
            "description_tooltip": null,
            "layout": "IPY_MODEL_11ffa6558bd64252afee9b75d8b78215",
            "max": 175,
            "min": 0,
            "orientation": "horizontal",
            "style": "IPY_MODEL_768c146ef67f4a289772282ac1ec0ea0",
            "value": 175
          }
        },
        "cf1d760999564ab7b49cea33e2ec2173": {
          "model_module": "@jupyter-widgets/controls",
          "model_name": "HTMLModel",
          "model_module_version": "1.5.0",
          "state": {
            "_dom_classes": [],
            "_model_module": "@jupyter-widgets/controls",
            "_model_module_version": "1.5.0",
            "_model_name": "HTMLModel",
            "_view_count": null,
            "_view_module": "@jupyter-widgets/controls",
            "_view_module_version": "1.5.0",
            "_view_name": "HTMLView",
            "description": "",
            "description_tooltip": null,
            "layout": "IPY_MODEL_e5455d62e50f4ddd8d533355ed156c7d",
            "placeholder": "​",
            "style": "IPY_MODEL_56f4976dd49747e1b7505fd375dcd35f",
            "value": " 175/175 [00:01&lt;00:00, 206.48 examples/s]"
          }
        },
        "ffda34834a6b4f97996ec79ab5c84cb8": {
          "model_module": "@jupyter-widgets/base",
          "model_name": "LayoutModel",
          "model_module_version": "1.2.0",
          "state": {
            "_model_module": "@jupyter-widgets/base",
            "_model_module_version": "1.2.0",
            "_model_name": "LayoutModel",
            "_view_count": null,
            "_view_module": "@jupyter-widgets/base",
            "_view_module_version": "1.2.0",
            "_view_name": "LayoutView",
            "align_content": null,
            "align_items": null,
            "align_self": null,
            "border": null,
            "bottom": null,
            "display": null,
            "flex": null,
            "flex_flow": null,
            "grid_area": null,
            "grid_auto_columns": null,
            "grid_auto_flow": null,
            "grid_auto_rows": null,
            "grid_column": null,
            "grid_gap": null,
            "grid_row": null,
            "grid_template_areas": null,
            "grid_template_columns": null,
            "grid_template_rows": null,
            "height": null,
            "justify_content": null,
            "justify_items": null,
            "left": null,
            "margin": null,
            "max_height": null,
            "max_width": null,
            "min_height": null,
            "min_width": null,
            "object_fit": null,
            "object_position": null,
            "order": null,
            "overflow": null,
            "overflow_x": null,
            "overflow_y": null,
            "padding": null,
            "right": null,
            "top": null,
            "visibility": null,
            "width": null
          }
        },
        "b2bc98cb4ecd4df9b63d6aa756b7357e": {
          "model_module": "@jupyter-widgets/base",
          "model_name": "LayoutModel",
          "model_module_version": "1.2.0",
          "state": {
            "_model_module": "@jupyter-widgets/base",
            "_model_module_version": "1.2.0",
            "_model_name": "LayoutModel",
            "_view_count": null,
            "_view_module": "@jupyter-widgets/base",
            "_view_module_version": "1.2.0",
            "_view_name": "LayoutView",
            "align_content": null,
            "align_items": null,
            "align_self": null,
            "border": null,
            "bottom": null,
            "display": null,
            "flex": null,
            "flex_flow": null,
            "grid_area": null,
            "grid_auto_columns": null,
            "grid_auto_flow": null,
            "grid_auto_rows": null,
            "grid_column": null,
            "grid_gap": null,
            "grid_row": null,
            "grid_template_areas": null,
            "grid_template_columns": null,
            "grid_template_rows": null,
            "height": null,
            "justify_content": null,
            "justify_items": null,
            "left": null,
            "margin": null,
            "max_height": null,
            "max_width": null,
            "min_height": null,
            "min_width": null,
            "object_fit": null,
            "object_position": null,
            "order": null,
            "overflow": null,
            "overflow_x": null,
            "overflow_y": null,
            "padding": null,
            "right": null,
            "top": null,
            "visibility": null,
            "width": null
          }
        },
        "10349a62e28d4eadb77716319a13007c": {
          "model_module": "@jupyter-widgets/controls",
          "model_name": "DescriptionStyleModel",
          "model_module_version": "1.5.0",
          "state": {
            "_model_module": "@jupyter-widgets/controls",
            "_model_module_version": "1.5.0",
            "_model_name": "DescriptionStyleModel",
            "_view_count": null,
            "_view_module": "@jupyter-widgets/base",
            "_view_module_version": "1.2.0",
            "_view_name": "StyleView",
            "description_width": ""
          }
        },
        "11ffa6558bd64252afee9b75d8b78215": {
          "model_module": "@jupyter-widgets/base",
          "model_name": "LayoutModel",
          "model_module_version": "1.2.0",
          "state": {
            "_model_module": "@jupyter-widgets/base",
            "_model_module_version": "1.2.0",
            "_model_name": "LayoutModel",
            "_view_count": null,
            "_view_module": "@jupyter-widgets/base",
            "_view_module_version": "1.2.0",
            "_view_name": "LayoutView",
            "align_content": null,
            "align_items": null,
            "align_self": null,
            "border": null,
            "bottom": null,
            "display": null,
            "flex": null,
            "flex_flow": null,
            "grid_area": null,
            "grid_auto_columns": null,
            "grid_auto_flow": null,
            "grid_auto_rows": null,
            "grid_column": null,
            "grid_gap": null,
            "grid_row": null,
            "grid_template_areas": null,
            "grid_template_columns": null,
            "grid_template_rows": null,
            "height": null,
            "justify_content": null,
            "justify_items": null,
            "left": null,
            "margin": null,
            "max_height": null,
            "max_width": null,
            "min_height": null,
            "min_width": null,
            "object_fit": null,
            "object_position": null,
            "order": null,
            "overflow": null,
            "overflow_x": null,
            "overflow_y": null,
            "padding": null,
            "right": null,
            "top": null,
            "visibility": null,
            "width": null
          }
        },
        "768c146ef67f4a289772282ac1ec0ea0": {
          "model_module": "@jupyter-widgets/controls",
          "model_name": "ProgressStyleModel",
          "model_module_version": "1.5.0",
          "state": {
            "_model_module": "@jupyter-widgets/controls",
            "_model_module_version": "1.5.0",
            "_model_name": "ProgressStyleModel",
            "_view_count": null,
            "_view_module": "@jupyter-widgets/base",
            "_view_module_version": "1.2.0",
            "_view_name": "StyleView",
            "bar_color": null,
            "description_width": ""
          }
        },
        "e5455d62e50f4ddd8d533355ed156c7d": {
          "model_module": "@jupyter-widgets/base",
          "model_name": "LayoutModel",
          "model_module_version": "1.2.0",
          "state": {
            "_model_module": "@jupyter-widgets/base",
            "_model_module_version": "1.2.0",
            "_model_name": "LayoutModel",
            "_view_count": null,
            "_view_module": "@jupyter-widgets/base",
            "_view_module_version": "1.2.0",
            "_view_name": "LayoutView",
            "align_content": null,
            "align_items": null,
            "align_self": null,
            "border": null,
            "bottom": null,
            "display": null,
            "flex": null,
            "flex_flow": null,
            "grid_area": null,
            "grid_auto_columns": null,
            "grid_auto_flow": null,
            "grid_auto_rows": null,
            "grid_column": null,
            "grid_gap": null,
            "grid_row": null,
            "grid_template_areas": null,
            "grid_template_columns": null,
            "grid_template_rows": null,
            "height": null,
            "justify_content": null,
            "justify_items": null,
            "left": null,
            "margin": null,
            "max_height": null,
            "max_width": null,
            "min_height": null,
            "min_width": null,
            "object_fit": null,
            "object_position": null,
            "order": null,
            "overflow": null,
            "overflow_x": null,
            "overflow_y": null,
            "padding": null,
            "right": null,
            "top": null,
            "visibility": null,
            "width": null
          }
        },
        "56f4976dd49747e1b7505fd375dcd35f": {
          "model_module": "@jupyter-widgets/controls",
          "model_name": "DescriptionStyleModel",
          "model_module_version": "1.5.0",
          "state": {
            "_model_module": "@jupyter-widgets/controls",
            "_model_module_version": "1.5.0",
            "_model_name": "DescriptionStyleModel",
            "_view_count": null,
            "_view_module": "@jupyter-widgets/base",
            "_view_module_version": "1.2.0",
            "_view_name": "StyleView",
            "description_width": ""
          }
        }
      }
    }
  },
  "nbformat": 4,
  "nbformat_minor": 0
}