{
 "cells": [
  {
   "cell_type": "code",
   "execution_count": 1,
   "metadata": {},
   "outputs": [],
   "source": [
    "\n",
    "import numpy as np\n",
    "import pandas as pd\n",
    "import os\n",
    "from gensim.models.fasttext import load_facebook_vectors"
   ]
  },
  {
   "cell_type": "code",
   "execution_count": 2,
   "metadata": {},
   "outputs": [],
   "source": [
    "model=load_facebook_vectors('cc.am.300.bin' )"
   ]
  },
  {
   "cell_type": "code",
   "execution_count": 5,
   "metadata": {},
   "outputs": [
    {
     "name": "stdout",
     "output_type": "stream",
     "text": [
      "[array([-1.81118993e-03,  7.79280264e-04, -6.23612292e-03, -3.34461976e-04,\n",
      "       -1.09767541e-02, -7.14224670e-03, -2.13351962e-03, -1.12489925e-03,\n",
      "       -3.17258085e-03, -7.63699412e-03,  1.25899846e-02,  1.90587563e-03,\n",
      "       -1.54074151e-02,  4.03520651e-03,  4.10156418e-03, -2.58936314e-03,\n",
      "        2.35505844e-03, -2.55051279e-03, -5.52234659e-03, -3.78509169e-04,\n",
      "       -8.83552991e-03, -2.37476733e-03, -3.81460437e-03,  2.07193848e-03,\n",
      "       -2.23915861e-03, -3.21432762e-03, -3.12923221e-03, -1.73295813e-03,\n",
      "        2.83179176e-03, -4.19369579e-04,  5.32812765e-03,  2.06366275e-03,\n",
      "       -8.72170925e-03, -4.05250490e-03,  6.36878947e-04,  2.23774556e-03,\n",
      "       -1.88035227e-03,  2.20869877e-03,  2.84386845e-03,  2.48472113e-03,\n",
      "       -5.40180225e-03, -6.74514519e-03,  3.60771455e-03, -1.40152127e-03,\n",
      "        1.58234185e-03,  3.18479328e-03, -7.83391763e-03,  1.72951538e-03,\n",
      "       -1.39292306e-03, -7.77878426e-03, -1.04014203e-02,  6.28354261e-03,\n",
      "       -3.55076813e-03,  2.85327341e-03, -2.04027444e-03, -5.15441131e-03,\n",
      "        1.12401624e-03, -2.47403421e-03, -5.75954840e-03, -1.72422163e-03,\n",
      "        5.01743983e-03, -6.30154321e-03, -7.79888942e-04,  3.46684153e-03,\n",
      "        1.15513452e-03,  4.74445568e-03,  9.14451107e-03, -1.12553453e-02,\n",
      "        3.31196026e-03, -1.25576393e-03,  3.21726198e-03,  5.01869130e-04,\n",
      "        2.11588995e-04,  4.82621457e-04, -3.69635294e-03,  2.74630380e-04,\n",
      "        1.97718176e-03,  3.95478169e-03,  4.48223576e-03,  5.46426047e-03,\n",
      "       -3.17164371e-03, -4.72634612e-03, -1.27319908e-02,  1.18235005e-02,\n",
      "       -4.98422305e-04, -9.94028989e-04, -2.71306536e-03, -5.82133187e-03,\n",
      "       -1.52615621e-03,  1.47191648e-04, -2.63478304e-03, -8.99116916e-04,\n",
      "       -3.56670702e-03,  6.87547540e-03,  8.64333287e-03,  4.99320030e-03,\n",
      "       -2.97268666e-03, -2.96416017e-03,  7.43850105e-05,  3.55830020e-03,\n",
      "        3.33356671e-03, -5.65289054e-03, -2.19537877e-03, -1.70180097e-03,\n",
      "        2.97343265e-03, -6.60474645e-03, -8.52910522e-03, -6.35675713e-03,\n",
      "       -2.48006713e-02,  7.11343391e-03, -2.09751800e-02, -9.72090987e-04,\n",
      "        7.20724789e-03,  6.67551183e-04, -6.72936626e-03,  1.16355496e-03,\n",
      "       -5.99765265e-03, -7.26675661e-03,  9.42012237e-04,  2.25752417e-04,\n",
      "        4.45713056e-03,  4.40507475e-03,  7.71553814e-03,  9.47068096e-04,\n",
      "       -1.20678851e-02,  4.11387766e-03, -5.35844534e-04,  3.68602760e-03,\n",
      "        6.75805286e-03,  3.44038010e-03, -1.40938703e-02, -4.55368636e-03,\n",
      "       -3.76787642e-03,  1.49026373e-03,  1.94791832e-03,  5.23270806e-03,\n",
      "       -6.33001619e-04, -2.65039213e-04, -1.11847278e-02, -7.73853529e-03,\n",
      "        1.69275410e-03, -7.43382517e-03,  1.94898830e-03,  3.32899462e-03,\n",
      "       -3.39805670e-02, -7.35543668e-03, -8.00448656e-03, -3.92006943e-03,\n",
      "        3.90893267e-03,  7.20624404e-04, -1.46878068e-03, -6.99186232e-03,\n",
      "       -5.74651361e-03,  6.89106528e-03,  6.59623509e-03,  8.44643079e-03,\n",
      "        2.00411840e-03, -6.39145914e-03,  1.09441229e-03, -2.85432185e-03,\n",
      "       -9.01913457e-03,  1.57944462e-03, -7.48805562e-03, -1.81880442e-03,\n",
      "        7.84849934e-03, -2.36310926e-03, -1.67349540e-03,  5.86307235e-03,\n",
      "        7.01425504e-03,  5.29111316e-03, -3.50194797e-03, -2.07188213e-03,\n",
      "       -9.69515927e-03,  2.65233626e-04, -6.21145184e-04,  4.17007878e-03,\n",
      "        1.67316233e-03, -3.26874852e-03, -2.78518000e-03, -7.79567100e-03,\n",
      "       -1.67038073e-04,  1.47517957e-03,  1.15957926e-03, -7.38862483e-03,\n",
      "        1.69179915e-03, -1.41372206e-03,  2.58805172e-04,  4.08763997e-03,\n",
      "        1.62067404e-03,  2.65907589e-03,  2.12943531e-03,  2.96043721e-03,\n",
      "       -7.86195882e-03,  7.41190696e-03,  2.83360039e-03,  8.03931896e-03,\n",
      "        2.50097853e-03, -4.77000093e-03,  3.35130695e-04,  6.17660210e-03,\n",
      "       -7.42713595e-03,  8.38089548e-03, -1.22736557e-03, -1.76819798e-04,\n",
      "       -1.12923328e-03, -2.96230661e-03, -4.84031904e-03, -1.19292075e-04,\n",
      "       -1.46494992e-03, -3.00669600e-03,  7.29771005e-03, -2.54170457e-03,\n",
      "        7.28524523e-03,  7.49573437e-03,  2.68102181e-03,  1.06652651e-03,\n",
      "       -3.53398244e-03,  4.26649302e-03,  4.82128598e-05, -2.46285205e-03,\n",
      "       -6.08652551e-03, -3.23973736e-03,  8.59776791e-03, -2.50183931e-03,\n",
      "       -7.02799205e-03, -4.47616959e-03, -2.52484391e-03,  1.37495354e-03,\n",
      "        9.59877204e-03,  3.43310437e-03, -1.77052303e-03, -6.67261286e-03,\n",
      "       -4.83527407e-03,  6.92794397e-02,  4.88922291e-04, -1.80993637e-03,\n",
      "       -1.16352853e-03, -1.62330701e-03,  3.56780668e-03, -9.81032196e-03,\n",
      "       -7.02485209e-04, -1.89294911e-03, -7.42069795e-04, -1.17010707e-02,\n",
      "       -1.58716589e-02,  2.04671035e-03,  2.31661601e-03,  3.65576969e-04,\n",
      "        5.23140747e-03, -1.05268126e-02, -7.17616081e-03, -4.75820014e-03,\n",
      "       -3.78702651e-03, -2.48281993e-02,  1.82316452e-03,  3.96345090e-03,\n",
      "       -3.40579951e-04,  9.89407673e-03,  6.15377864e-03,  2.67561991e-03,\n",
      "       -9.13435500e-03, -3.56132910e-03, -3.32924500e-02, -6.32443838e-03,\n",
      "        3.84605583e-03, -6.92868431e-04,  2.07029446e-03, -5.96505776e-03,\n",
      "        2.46827006e-02,  5.56192733e-03,  3.09230527e-03, -4.31943592e-03,\n",
      "       -9.31737386e-03,  1.20993820e-03,  2.09473912e-03, -5.88647672e-04,\n",
      "       -9.98079404e-03, -1.55380962e-03, -4.09734482e-03,  7.62194977e-05,\n",
      "       -8.77425540e-03,  1.87386759e-03, -1.98383234e-03, -8.45637545e-03,\n",
      "       -5.39123919e-03, -8.26228783e-03, -5.95498085e-03, -3.26777576e-03,\n",
      "       -5.99712180e-03,  1.90948404e-03,  4.21590079e-03,  2.91348970e-03,\n",
      "       -9.41270031e-03, -3.33543448e-03, -2.52556033e-03,  4.89416206e-03,\n",
      "        1.42115876e-02, -4.50203940e-03, -3.16448719e-03,  3.94004770e-03],\n",
      "      dtype=float32), array([ 8.64875410e-03,  3.24326055e-03,  8.69566109e-03, -2.95413285e-03,\n",
      "       -1.78446509e-02, -1.16549972e-02, -9.59448703e-03,  7.12614786e-03,\n",
      "        1.13971659e-03,  5.16021578e-03, -7.55692786e-03,  7.69542670e-03,\n",
      "        2.63806432e-05, -5.01577742e-03,  1.30871008e-03,  1.55879511e-02,\n",
      "        4.22105892e-03,  3.55123729e-02, -2.85510346e-03,  9.48747154e-03,\n",
      "        1.22336466e-02, -1.38455012e-04, -6.31024688e-03, -7.13338703e-03,\n",
      "       -6.97088148e-03,  5.49255451e-03, -2.18732934e-03,  3.69063392e-03,\n",
      "       -2.11372552e-03,  1.13325641e-02, -1.83810126e-02,  1.03555236e-03,\n",
      "        3.16493539e-03,  1.86526356e-03, -1.93096662e-03,  5.78112248e-03,\n",
      "        3.94876394e-03, -5.96036389e-03, -2.29703821e-03, -3.67272156e-03,\n",
      "        1.32973157e-02,  2.68518110e-04, -2.21513095e-04,  1.03541603e-02,\n",
      "       -2.14031655e-02, -7.01330462e-03, -1.17261484e-02, -9.89243388e-03,\n",
      "        1.69384002e-03, -1.27838338e-02,  3.01773995e-02, -5.10444492e-03,\n",
      "        1.72947403e-02, -4.36806679e-03, -1.06326183e-02, -5.37944539e-03,\n",
      "       -2.55331863e-03,  1.08000217e-02,  1.33140460e-02,  8.98376852e-03,\n",
      "       -1.14524728e-02,  2.05504219e-03, -4.72564762e-03, -1.22108869e-03,\n",
      "       -1.37107382e-02,  2.75387429e-05, -2.21788939e-02, -2.01820545e-02,\n",
      "       -6.83166320e-03,  9.90123954e-03,  3.45821050e-03,  2.10788639e-04,\n",
      "       -5.85026620e-03, -8.79103504e-03,  1.35955242e-02, -2.19823164e-03,\n",
      "       -4.09798464e-03, -9.46092047e-03,  5.47033676e-04,  5.55091165e-03,\n",
      "       -2.04356341e-03,  4.31239931e-03, -2.35603657e-02,  5.48891723e-04,\n",
      "        6.80387905e-03,  3.14889825e-03, -3.91845359e-03,  2.71530394e-02,\n",
      "        1.17395900e-03, -1.57132908e-03,  1.66302791e-03, -2.66753277e-03,\n",
      "       -3.29413009e-03, -2.83700484e-03,  1.74712278e-02,  4.75345738e-03,\n",
      "        7.06385169e-03,  7.96965137e-03, -7.11018918e-03,  3.58613627e-03,\n",
      "       -1.20470277e-03,  1.18850973e-02, -6.14038249e-03, -2.87186354e-03,\n",
      "        7.89996237e-03, -2.96686683e-03, -1.12326406e-02,  6.51893206e-03,\n",
      "       -4.07957137e-02, -2.98634777e-03, -3.86929065e-02, -9.69251152e-03,\n",
      "       -9.48884524e-03, -3.48560326e-03,  1.21736927e-02,  8.87980568e-04,\n",
      "        1.07882759e-02,  1.38491606e-02,  4.99678962e-03, -9.32062883e-03,\n",
      "        6.37025852e-03,  2.95666192e-04, -1.36776185e-02,  4.61865653e-04,\n",
      "        9.78698488e-03,  3.24322679e-03,  2.65498832e-03,  3.55167501e-03,\n",
      "       -5.22065395e-03, -2.67415261e-03, -4.94341366e-04, -1.26013262e-02,\n",
      "        3.85260419e-03, -4.52066888e-04,  9.53574257e-04,  5.75087452e-03,\n",
      "       -2.87443469e-03,  7.10387365e-04, -6.52413163e-03,  1.15688490e-02,\n",
      "        4.70919011e-04,  3.80460965e-03,  6.64812163e-04,  7.68528646e-03,\n",
      "       -2.68464088e-02,  5.63465524e-03,  1.04538091e-02,  2.89762998e-03,\n",
      "       -9.80156474e-03, -2.41532526e-03,  2.41412534e-04, -1.95306726e-04,\n",
      "        1.24646006e-02, -1.45443371e-02, -2.48504616e-03, -4.09276178e-03,\n",
      "        1.30867446e-03,  2.08974397e-03, -7.60669401e-03,  1.04622748e-02,\n",
      "       -6.09207712e-03,  9.09779454e-04, -7.23908748e-03,  1.12429922e-02,\n",
      "        1.33660994e-03, -4.39239386e-03,  4.11183434e-03, -1.36616724e-02,\n",
      "        2.99600931e-03,  2.96153221e-03,  5.85115456e-04, -2.06539594e-03,\n",
      "       -6.05888665e-03, -1.09438729e-02, -2.30566948e-04, -3.82845872e-03,\n",
      "       -1.87060260e-03, -7.09183607e-03,  5.08554571e-04,  7.09053455e-03,\n",
      "        6.87323185e-03,  2.90574110e-03, -7.96108879e-03,  8.56417418e-03,\n",
      "       -2.04803445e-03,  2.63020571e-04, -1.55162709e-02, -6.27206312e-03,\n",
      "        2.99958978e-03, -4.72543342e-03,  1.28459651e-02, -1.08620012e-02,\n",
      "        7.36602210e-03, -7.68433604e-03,  9.10840649e-03, -5.49870264e-03,\n",
      "       -6.39062515e-03,  3.67257884e-03, -6.92502549e-03, -2.65071308e-03,\n",
      "       -3.37870535e-03,  1.88367767e-03, -8.74568126e-04,  9.61120427e-03,\n",
      "        1.56082865e-02,  6.54346030e-03,  4.45479481e-03,  4.56092553e-03,\n",
      "        8.27822892e-04, -1.14205163e-02,  6.94254786e-03,  4.67708055e-03,\n",
      "       -1.05685238e-02, -9.62899346e-03,  2.68732710e-03,  2.86090840e-03,\n",
      "        1.49787567e-03,  7.25848880e-03, -5.00274310e-03,  2.61888746e-03,\n",
      "       -6.96557108e-04,  6.53051818e-03,  1.19076278e-02, -1.67976157e-03,\n",
      "        2.63738874e-02,  6.83605252e-03, -1.37798104e-03,  6.15087152e-03,\n",
      "        5.33328205e-03, -4.99011890e-04, -3.14292661e-03, -4.97757457e-03,\n",
      "       -9.11910646e-03,  5.64329326e-02,  3.56715778e-03,  1.44041842e-03,\n",
      "        2.93139997e-03,  8.31274875e-03,  1.02636991e-02, -2.02139951e-02,\n",
      "        6.80564204e-03, -1.78885937e-03,  3.70784593e-03,  2.27615386e-02,\n",
      "        1.24444216e-02, -4.47709532e-03,  1.91654637e-03, -2.74291052e-03,\n",
      "       -3.29775969e-03, -2.16069864e-04, -4.77053085e-03,  1.21330505e-03,\n",
      "        5.39840292e-03,  5.90158515e-02, -1.64567522e-04, -6.55889930e-03,\n",
      "        2.39038584e-03,  2.94397422e-03, -6.13618363e-03,  3.52729694e-03,\n",
      "        9.97441821e-03, -6.18943246e-03, -1.13596573e-01,  1.48828849e-02,\n",
      "       -1.45241637e-02,  3.81795526e-03,  2.12452188e-03, -2.55429186e-03,\n",
      "       -4.84356694e-02, -2.79005431e-03, -1.68450898e-03,  1.11791706e-02,\n",
      "        9.88999754e-03, -6.67466724e-04,  8.19872366e-06, -7.14937225e-03,\n",
      "       -3.12145101e-03, -3.23340180e-03, -7.07376888e-03,  2.03794730e-03,\n",
      "        1.54056372e-02, -3.24531365e-03, -7.72569678e-04,  1.20429387e-02,\n",
      "       -1.10987248e-03,  7.01841060e-03,  3.50224189e-02,  5.34762442e-03,\n",
      "        7.05979997e-03, -6.06118701e-03, -1.10753474e-03, -5.65487472e-03,\n",
      "        8.01030430e-04, -1.10508213e-02, -1.26363188e-02, -8.64493474e-03,\n",
      "        2.16520391e-02,  3.00874119e-03, -4.63208184e-03,  2.70176865e-03],\n",
      "      dtype=float32)]\n"
     ]
    }
   ],
   "source": [
    "temp=[]\n",
    "data=model.get_vector('ልብስህን አዉልቅ')\n",
    "data1=model.get_vector('ልብስህን')\n",
    "temp.append(data)\n",
    "temp.append(data1)\n",
    "print(temp)"
   ]
  },
  {
   "cell_type": "code",
   "execution_count": 6,
   "metadata": {},
   "outputs": [
    {
     "name": "stdout",
     "output_type": "stream",
     "text": [
      "[('የሚረዳቸዉን', 0.8854570984840393), ('የሚረዳበት', 0.8447672128677368), ('ድረአምባ', 0.7956734299659729), ('የሚረዳህ', 0.7785784006118774), ('የሚረዱንን', 0.7768847346305847), ('MāoriRomânăSetswanashqipeSlovenčinaSlovenščinasuomiSvenskaTiếng', 0.7725111246109009), ('አያስወግደውም', 0.7666252851486206), ('መድቦና', 0.766274631023407), ('PortuguêsРусскийEnglishEspañolМакедонскиTibetanภาษา', 0.7620896100997925), ('MelayubosanskicatalàČeštinaCymraegdanskDeutschEestiEnglishEspañolEuskaraFilipinofrançaisGaeilgeGàidhliggalegoHrvatskiIgboisiXhosaisiZuluíslenskaItalianoKinyarwandaKiswahiliLatviešuLëtzebuergeschLietuviųMagyarMaltiNederlandsNorsk', 0.758207380771637)]\n"
     ]
    }
   ],
   "source": [
    "print(model.most_similar('የሚረዳኝን'))"
   ]
  },
  {
   "cell_type": "code",
   "execution_count": 171,
   "metadata": {},
   "outputs": [
    {
     "name": "stdout",
     "output_type": "stream",
     "text": [
      "     Idiomatic expression   class\n",
      "259          አባቶቻችን ሰልጥነዋል      1\n",
      "778              ለምለም እንጀራ      1\n",
      "1017               ሌባ ሚዛን       0\n",
      "296          ከምታበላሽ ተርፋለች       1\n",
      "1141               ሙርጥ አወጣ      0\n",
      "818              ሀፍረት ለበሰ       0\n",
      "86            ኦርቶዶክስ ተዋህዶ       1\n",
      "1018                ሌባ ሻይ       0\n",
      "677              ወፍራም አንጀት      1\n",
      "853                ልቡ ቀዘቀዘ      0\n",
      "(1860, 2)\n"
     ]
    }
   ],
   "source": [
    "dataset=pd.read_excel('C:/Users/getam/OneDrive/Desktop/dataset.xlsx')\n",
    "from sklearn.utils import shuffle\n",
    "dataset = shuffle(dataset)\n",
    "print(dataset.head(10))\n",
    "print(dataset.shape)"
   ]
  },
  {
   "cell_type": "code",
   "execution_count": 261,
   "metadata": {},
   "outputs": [],
   "source": [
    "\n",
    "dataframe=dataset.iloc[:,0]\n",
    "label=dataset.iloc[:,1]\n",
    "X_train=dataframe.iloc[0:1488]\n",
    "X_val=dataframe.iloc[1488:1656]\n",
    "X_test=dataframe.iloc[1656:1681]\n",
    "y_train=label.iloc[0:1488]\n",
    "y_val=label.iloc[1488:1656]\n",
    "y_test=label.iloc[1656:1681]\n",
    "matrics_train=X_train.values\n",
    "matrics_test=X_test.values\n",
    "matrics_val=X_val.values"
   ]
  },
  {
   "cell_type": "code",
   "execution_count": 57,
   "metadata": {},
   "outputs": [
    {
     "name": "stdout",
     "output_type": "stream",
     "text": [
      "(1488,)\n"
     ]
    }
   ],
   "source": [
    "print(X_train.shape)"
   ]
  },
  {
   "cell_type": "code",
   "execution_count": 262,
   "metadata": {},
   "outputs": [],
   "source": [
    "embedding_matrix_train = np.zeros((len(matrics_train), 300))\n",
    "embedding_matrix_test=np.zeros((len(matrics_test),300))\n",
    "embedding_matrix_val=np.zeros((len(matrics_val),300))"
   ]
  },
  {
   "cell_type": "code",
   "execution_count": 263,
   "metadata": {},
   "outputs": [],
   "source": [
    "i=-1\n",
    "for line in matrics_train:\n",
    "    i=i+1\n",
    "    embedding_vector_train=model.get_vector(line)\n",
    "    embedding_matrix_train[i]=embedding_vector_train\n",
    "              "
   ]
  },
  {
   "cell_type": "code",
   "execution_count": 264,
   "metadata": {},
   "outputs": [],
   "source": [
    "j=-1\n",
    "for line in matrics_test:\n",
    "    j=j+1\n",
    "    embedding_vector_test=model.get_vector(line)\n",
    "    embedding_matrix_test[j]=embedding_vector_test"
   ]
  },
  {
   "cell_type": "code",
   "execution_count": 266,
   "metadata": {},
   "outputs": [],
   "source": [
    "k=-1\n",
    "for line in matrics_val:\n",
    "    k=k+1\n",
    "    embedding_vector=model.get_vector(line)\n",
    "    embedding_matrix_val[k]=embedding_vector"
   ]
  },
  {
   "cell_type": "code",
   "execution_count": 13,
   "metadata": {},
   "outputs": [
    {
     "name": "stdout",
     "output_type": "stream",
     "text": [
      "[[ 4.51819564e-04  3.31791030e-04  1.75350477e-04 ... -4.94621927e-04\n",
      "   4.42708479e-05 -1.89799859e-04]\n",
      " [-2.83250888e-03  1.08291744e-03 -3.42281815e-03 ... -2.62094848e-03\n",
      "   8.47933989e-04  2.75264680e-03]\n",
      " [-1.72832166e-03  6.24680193e-04 -3.87457525e-03 ... -1.39777258e-04\n",
      "  -5.08966332e-05  9.18569451e-04]\n",
      " ...\n",
      " [ 1.40301257e-04 -5.85234084e-04 -5.07029064e-04 ... -5.64215821e-04\n",
      "   2.96627695e-04 -1.17974610e-04]\n",
      " [ 1.83772831e-03  2.60532688e-04 -1.25871284e-03 ...  1.10924174e-03\n",
      "  -1.37933006e-03 -5.53697988e-04]\n",
      " [-5.07918047e-03  8.77097773e-04 -1.19822705e-02 ... -9.25204530e-03\n",
      "  -3.58922320e-04  9.32208914e-03]]\n"
     ]
    }
   ],
   "source": [
    "print(embedding_matrix_test)"
   ]
  },
  {
   "cell_type": "code",
   "execution_count": 14,
   "metadata": {},
   "outputs": [
    {
     "name": "stdout",
     "output_type": "stream",
     "text": [
      "(372, 300)\n",
      "(1488, 300)\n"
     ]
    }
   ],
   "source": [
    "print(embedding_matrix_test.shape)\n",
    "print(embedding_matrix_train.shape)"
   ]
  },
  {
   "cell_type": "code",
   "execution_count": 15,
   "metadata": {},
   "outputs": [
    {
     "name": "stdout",
     "output_type": "stream",
     "text": [
      "(1488,)\n"
     ]
    }
   ],
   "source": [
    "print(y_train.shape)"
   ]
  },
  {
   "cell_type": "code",
   "execution_count": 17,
   "metadata": {},
   "outputs": [],
   "source": [
    "import tensorflow as tf\n",
    "import keras"
   ]
  },
  {
   "cell_type": "code",
   "execution_count": 18,
   "metadata": {},
   "outputs": [],
   "source": [
    "from keras.models import Sequential"
   ]
  },
  {
   "cell_type": "code",
   "execution_count": 19,
   "metadata": {},
   "outputs": [],
   "source": [
    "from keras.layers import Dense, Dropout, Conv1D, MaxPool1D, GlobalMaxPool1D, Embedding, Activation, Flatten"
   ]
  },
  {
   "cell_type": "code",
   "execution_count": 384,
   "metadata": {},
   "outputs": [
    {
     "name": "stdout",
     "output_type": "stream",
     "text": [
      "Model: \"sequential_48\"\n",
      "_________________________________________________________________\n",
      "Layer (type)                 Output Shape              Param #   \n",
      "=================================================================\n",
      "dense_143 (Dense)            (None, 256)               77056     \n",
      "_________________________________________________________________\n",
      "dense_144 (Dense)            (None, 8)                 2056      \n",
      "_________________________________________________________________\n",
      "dense_145 (Dense)            (None, 1)                 9         \n",
      "=================================================================\n",
      "Total params: 79,121\n",
      "Trainable params: 79,121\n",
      "Non-trainable params: 0\n",
      "_________________________________________________________________\n"
     ]
    }
   ],
   "source": [
    "deep=Sequential()\n",
    "deep.add(Dense(256, input_dim=300,activation='relu'))\n",
    "deep.add(Dense(8,activation='relu'))\n",
    "#deep.add(Dense(4,activation='softmax'))\n",
    "#deep.add(Dropout(0.5))\n",
    "deep.add(Dense(1, activation='sigmoid'))\n",
    "deep.compile(loss='binary_crossentropy', optimizer='adam', metrics=['accuracy'])\n",
    "deep.summary()"
   ]
  },
  {
   "cell_type": "code",
   "execution_count": 392,
   "metadata": {},
   "outputs": [
    {
     "name": "stdout",
     "output_type": "stream",
     "text": [
      "Train on 1488 samples, validate on 168 samples\n",
      "Epoch 1/100\n",
      " - 1s - loss: 0.3395 - accuracy: 0.8313 - val_loss: 1.2918 - val_accuracy: 0.6310\n",
      "Epoch 2/100\n",
      " - 1s - loss: 0.3278 - accuracy: 0.8401 - val_loss: 1.3209 - val_accuracy: 0.6488\n",
      "Epoch 3/100\n",
      " - 1s - loss: 0.3276 - accuracy: 0.8461 - val_loss: 1.3499 - val_accuracy: 0.6250\n",
      "Epoch 4/100\n",
      " - 0s - loss: 0.3082 - accuracy: 0.8582 - val_loss: 1.4328 - val_accuracy: 0.6250\n",
      "Epoch 5/100\n",
      " - 0s - loss: 0.3230 - accuracy: 0.8515 - val_loss: 1.3367 - val_accuracy: 0.6429\n",
      "Epoch 6/100\n",
      " - 0s - loss: 0.3057 - accuracy: 0.8528 - val_loss: 1.3587 - val_accuracy: 0.6488\n",
      "Epoch 7/100\n",
      " - 0s - loss: 0.2943 - accuracy: 0.8616 - val_loss: 1.3968 - val_accuracy: 0.6369\n",
      "Epoch 8/100\n",
      " - 0s - loss: 0.2969 - accuracy: 0.8636 - val_loss: 1.3983 - val_accuracy: 0.6488\n",
      "Epoch 9/100\n",
      " - 0s - loss: 0.2903 - accuracy: 0.8683 - val_loss: 1.4904 - val_accuracy: 0.6310\n",
      "Epoch 10/100\n",
      " - 0s - loss: 0.2899 - accuracy: 0.8710 - val_loss: 1.4152 - val_accuracy: 0.6429\n",
      "Epoch 11/100\n",
      " - 0s - loss: 0.2880 - accuracy: 0.8777 - val_loss: 1.4179 - val_accuracy: 0.6429\n",
      "Epoch 12/100\n",
      " - 0s - loss: 0.2790 - accuracy: 0.8710 - val_loss: 1.4727 - val_accuracy: 0.6369\n",
      "Epoch 13/100\n",
      " - 0s - loss: 0.2839 - accuracy: 0.8710 - val_loss: 1.5495 - val_accuracy: 0.6369\n",
      "Epoch 14/100\n",
      " - 0s - loss: 0.2726 - accuracy: 0.8790 - val_loss: 1.6004 - val_accuracy: 0.6131\n",
      "Epoch 15/100\n",
      " - 1s - loss: 0.2663 - accuracy: 0.8804 - val_loss: 1.4985 - val_accuracy: 0.6607\n",
      "Epoch 16/100\n",
      " - 0s - loss: 0.2631 - accuracy: 0.8837 - val_loss: 1.6200 - val_accuracy: 0.6429\n",
      "Epoch 17/100\n",
      " - 1s - loss: 0.2650 - accuracy: 0.8790 - val_loss: 1.5256 - val_accuracy: 0.6548\n",
      "Epoch 18/100\n",
      " - 1s - loss: 0.2835 - accuracy: 0.8710 - val_loss: 1.5690 - val_accuracy: 0.6488\n",
      "Epoch 19/100\n",
      " - 0s - loss: 0.2561 - accuracy: 0.8851 - val_loss: 1.6133 - val_accuracy: 0.6250\n",
      "Epoch 20/100\n",
      " - 1s - loss: 0.2559 - accuracy: 0.8918 - val_loss: 1.6017 - val_accuracy: 0.6310\n",
      "Epoch 21/100\n",
      " - 1s - loss: 0.2536 - accuracy: 0.8931 - val_loss: 1.9488 - val_accuracy: 0.6012\n",
      "Epoch 22/100\n",
      " - 1s - loss: 0.2585 - accuracy: 0.8797 - val_loss: 1.5786 - val_accuracy: 0.6548\n",
      "Epoch 23/100\n",
      " - 0s - loss: 0.2496 - accuracy: 0.8844 - val_loss: 1.6514 - val_accuracy: 0.6429\n",
      "Epoch 24/100\n",
      " - 0s - loss: 0.2377 - accuracy: 0.8925 - val_loss: 1.7714 - val_accuracy: 0.6250\n",
      "Epoch 25/100\n",
      " - 0s - loss: 0.2412 - accuracy: 0.8978 - val_loss: 1.6763 - val_accuracy: 0.6369\n",
      "Epoch 26/100\n",
      " - 0s - loss: 0.2474 - accuracy: 0.8871 - val_loss: 1.7320 - val_accuracy: 0.6310\n",
      "Epoch 27/100\n",
      " - 0s - loss: 0.2404 - accuracy: 0.8871 - val_loss: 1.7372 - val_accuracy: 0.6250\n",
      "Epoch 28/100\n",
      " - 1s - loss: 0.2287 - accuracy: 0.8925 - val_loss: 1.7809 - val_accuracy: 0.6012\n",
      "Epoch 29/100\n",
      " - 1s - loss: 0.2411 - accuracy: 0.8864 - val_loss: 1.7387 - val_accuracy: 0.6488\n",
      "Epoch 30/100\n",
      " - 0s - loss: 0.2280 - accuracy: 0.9032 - val_loss: 1.7666 - val_accuracy: 0.6488\n",
      "Epoch 31/100\n",
      " - 0s - loss: 0.2129 - accuracy: 0.9133 - val_loss: 1.8058 - val_accuracy: 0.6548\n",
      "Epoch 32/100\n",
      " - 1s - loss: 0.2186 - accuracy: 0.9079 - val_loss: 1.8019 - val_accuracy: 0.6429\n",
      "Epoch 33/100\n",
      " - 1s - loss: 0.2297 - accuracy: 0.8985 - val_loss: 1.8126 - val_accuracy: 0.6607\n",
      "Epoch 34/100\n",
      " - 0s - loss: 0.2279 - accuracy: 0.8938 - val_loss: 1.7819 - val_accuracy: 0.6667\n",
      "Epoch 35/100\n",
      " - 0s - loss: 0.2293 - accuracy: 0.8999 - val_loss: 1.8172 - val_accuracy: 0.6548\n",
      "Epoch 36/100\n",
      " - 1s - loss: 0.2119 - accuracy: 0.9066 - val_loss: 1.9026 - val_accuracy: 0.6429\n",
      "Epoch 37/100\n",
      " - 1s - loss: 0.2222 - accuracy: 0.9005 - val_loss: 1.9034 - val_accuracy: 0.6369\n",
      "Epoch 38/100\n",
      " - 0s - loss: 0.2245 - accuracy: 0.8999 - val_loss: 1.8404 - val_accuracy: 0.6607\n",
      "Epoch 39/100\n",
      " - 0s - loss: 0.1969 - accuracy: 0.9187 - val_loss: 1.9002 - val_accuracy: 0.6429\n",
      "Epoch 40/100\n",
      " - 0s - loss: 0.1930 - accuracy: 0.9194 - val_loss: 1.9673 - val_accuracy: 0.6429\n",
      "Epoch 41/100\n",
      " - 0s - loss: 0.1985 - accuracy: 0.9200 - val_loss: 1.9181 - val_accuracy: 0.6488\n",
      "Epoch 42/100\n",
      " - 0s - loss: 0.1908 - accuracy: 0.9200 - val_loss: 2.0155 - val_accuracy: 0.6429\n",
      "Epoch 43/100\n",
      " - 0s - loss: 0.2151 - accuracy: 0.9046 - val_loss: 1.9515 - val_accuracy: 0.6488\n",
      "Epoch 44/100\n",
      " - 1s - loss: 0.1986 - accuracy: 0.9180 - val_loss: 2.1678 - val_accuracy: 0.6190\n",
      "Epoch 45/100\n",
      " - 0s - loss: 0.1943 - accuracy: 0.9200 - val_loss: 1.9968 - val_accuracy: 0.6190\n",
      "Epoch 46/100\n",
      " - 0s - loss: 0.1993 - accuracy: 0.9227 - val_loss: 2.0229 - val_accuracy: 0.6250\n",
      "Epoch 47/100\n",
      " - 0s - loss: 0.1923 - accuracy: 0.9133 - val_loss: 2.0225 - val_accuracy: 0.6310\n",
      "Epoch 48/100\n",
      " - 0s - loss: 0.1884 - accuracy: 0.9247 - val_loss: 2.1305 - val_accuracy: 0.6429\n",
      "Epoch 49/100\n",
      " - 0s - loss: 0.1912 - accuracy: 0.9227 - val_loss: 2.0092 - val_accuracy: 0.6310\n",
      "Epoch 50/100\n",
      " - 0s - loss: 0.1683 - accuracy: 0.9328 - val_loss: 2.0763 - val_accuracy: 0.6190\n",
      "Epoch 51/100\n",
      " - 0s - loss: 0.1706 - accuracy: 0.9301 - val_loss: 2.1832 - val_accuracy: 0.6071\n",
      "Epoch 52/100\n",
      " - 0s - loss: 0.1810 - accuracy: 0.9234 - val_loss: 2.0808 - val_accuracy: 0.6488\n",
      "Epoch 53/100\n",
      " - 0s - loss: 0.1882 - accuracy: 0.9153 - val_loss: 2.0924 - val_accuracy: 0.6369\n",
      "Epoch 54/100\n",
      " - 0s - loss: 0.1651 - accuracy: 0.9362 - val_loss: 2.2526 - val_accuracy: 0.6369\n",
      "Epoch 55/100\n",
      " - 1s - loss: 0.1663 - accuracy: 0.9261 - val_loss: 2.2948 - val_accuracy: 0.6429\n",
      "Epoch 56/100\n",
      " - 1s - loss: 0.1619 - accuracy: 0.9341 - val_loss: 2.2594 - val_accuracy: 0.6310\n",
      "Epoch 57/100\n",
      " - 1s - loss: 0.1576 - accuracy: 0.9362 - val_loss: 2.1917 - val_accuracy: 0.6429\n",
      "Epoch 58/100\n",
      " - 1s - loss: 0.1593 - accuracy: 0.9328 - val_loss: 2.3029 - val_accuracy: 0.6429\n",
      "Epoch 59/100\n",
      " - 1s - loss: 0.1508 - accuracy: 0.9395 - val_loss: 2.2418 - val_accuracy: 0.6310\n",
      "Epoch 60/100\n",
      " - 1s - loss: 0.1639 - accuracy: 0.9321 - val_loss: 2.3014 - val_accuracy: 0.6607\n",
      "Epoch 61/100\n",
      " - 1s - loss: 0.1641 - accuracy: 0.9348 - val_loss: 2.4190 - val_accuracy: 0.6488\n",
      "Epoch 62/100\n",
      " - 0s - loss: 0.1602 - accuracy: 0.9315 - val_loss: 2.4802 - val_accuracy: 0.6310\n",
      "Epoch 63/100\n",
      " - 1s - loss: 0.1506 - accuracy: 0.9362 - val_loss: 2.4967 - val_accuracy: 0.6369\n",
      "Epoch 64/100\n",
      " - 1s - loss: 0.1540 - accuracy: 0.9429 - val_loss: 2.4691 - val_accuracy: 0.6488\n",
      "Epoch 65/100\n",
      " - 0s - loss: 0.1451 - accuracy: 0.9395 - val_loss: 2.7640 - val_accuracy: 0.6250\n",
      "Epoch 66/100\n",
      " - 0s - loss: 0.1383 - accuracy: 0.9483 - val_loss: 2.6314 - val_accuracy: 0.6250\n",
      "Epoch 67/100\n",
      " - 1s - loss: 0.1434 - accuracy: 0.9422 - val_loss: 2.5127 - val_accuracy: 0.6429\n",
      "Epoch 68/100\n",
      " - 0s - loss: 0.1351 - accuracy: 0.9476 - val_loss: 2.4986 - val_accuracy: 0.6488\n",
      "Epoch 69/100\n",
      " - 1s - loss: 0.1314 - accuracy: 0.9496 - val_loss: 2.5764 - val_accuracy: 0.6310\n",
      "Epoch 70/100\n",
      " - 1s - loss: 0.1540 - accuracy: 0.9362 - val_loss: 2.4280 - val_accuracy: 0.5774\n",
      "Epoch 71/100\n",
      " - 1s - loss: 0.1732 - accuracy: 0.9335 - val_loss: 2.3163 - val_accuracy: 0.6369\n",
      "Epoch 72/100\n",
      " - 0s - loss: 0.1349 - accuracy: 0.9469 - val_loss: 2.4225 - val_accuracy: 0.6250\n",
      "Epoch 73/100\n",
      " - 0s - loss: 0.1432 - accuracy: 0.9503 - val_loss: 2.2908 - val_accuracy: 0.6310\n",
      "Epoch 74/100\n",
      " - 0s - loss: 0.1303 - accuracy: 0.9483 - val_loss: 2.4178 - val_accuracy: 0.6250\n",
      "Epoch 75/100\n",
      " - 1s - loss: 0.1247 - accuracy: 0.9530 - val_loss: 2.4639 - val_accuracy: 0.6369\n",
      "Epoch 76/100\n",
      " - 0s - loss: 0.1309 - accuracy: 0.9483 - val_loss: 2.5021 - val_accuracy: 0.6488\n",
      "Epoch 77/100\n",
      " - 1s - loss: 0.1477 - accuracy: 0.9368 - val_loss: 2.5090 - val_accuracy: 0.6012\n",
      "Epoch 78/100\n",
      " - 0s - loss: 0.1377 - accuracy: 0.9415 - val_loss: 2.4188 - val_accuracy: 0.6131\n",
      "Epoch 79/100\n",
      " - 0s - loss: 0.1135 - accuracy: 0.9577 - val_loss: 2.5100 - val_accuracy: 0.6310\n",
      "Epoch 80/100\n",
      " - 1s - loss: 0.1197 - accuracy: 0.9563 - val_loss: 2.4808 - val_accuracy: 0.6250\n",
      "Epoch 81/100\n",
      " - 1s - loss: 0.1082 - accuracy: 0.9583 - val_loss: 2.5767 - val_accuracy: 0.6369\n",
      "Epoch 82/100\n",
      " - 1s - loss: 0.1358 - accuracy: 0.9509 - val_loss: 2.3829 - val_accuracy: 0.6250\n",
      "Epoch 83/100\n",
      " - 1s - loss: 0.1185 - accuracy: 0.9556 - val_loss: 2.6808 - val_accuracy: 0.6310\n",
      "Epoch 84/100\n",
      " - 1s - loss: 0.1113 - accuracy: 0.9590 - val_loss: 2.5782 - val_accuracy: 0.6190\n",
      "Epoch 85/100\n",
      " - 1s - loss: 0.1049 - accuracy: 0.9597 - val_loss: 2.7053 - val_accuracy: 0.6488\n",
      "Epoch 86/100\n",
      " - 1s - loss: 0.1193 - accuracy: 0.9550 - val_loss: 2.7282 - val_accuracy: 0.6369\n"
     ]
    },
    {
     "name": "stdout",
     "output_type": "stream",
     "text": [
      "Epoch 87/100\n",
      " - 1s - loss: 0.1476 - accuracy: 0.9449 - val_loss: 2.7044 - val_accuracy: 0.6488\n",
      "Epoch 88/100\n",
      " - 1s - loss: 0.1051 - accuracy: 0.9630 - val_loss: 2.6992 - val_accuracy: 0.6429\n",
      "Epoch 89/100\n",
      " - 1s - loss: 0.1235 - accuracy: 0.9503 - val_loss: 2.6689 - val_accuracy: 0.6429\n",
      "Epoch 90/100\n",
      " - 1s - loss: 0.1056 - accuracy: 0.9603 - val_loss: 2.7752 - val_accuracy: 0.6369\n",
      "Epoch 91/100\n",
      " - 1s - loss: 0.0990 - accuracy: 0.9630 - val_loss: 2.7485 - val_accuracy: 0.6190\n",
      "Epoch 92/100\n",
      " - 0s - loss: 0.1001 - accuracy: 0.9630 - val_loss: 2.7838 - val_accuracy: 0.6250\n",
      "Epoch 93/100\n",
      " - 1s - loss: 0.0962 - accuracy: 0.9657 - val_loss: 2.9205 - val_accuracy: 0.6131\n",
      "Epoch 94/100\n",
      " - 1s - loss: 0.1109 - accuracy: 0.9543 - val_loss: 2.8992 - val_accuracy: 0.6012\n",
      "Epoch 95/100\n",
      " - 1s - loss: 0.1518 - accuracy: 0.9442 - val_loss: 2.6677 - val_accuracy: 0.6310\n",
      "Epoch 96/100\n",
      " - 1s - loss: 0.0975 - accuracy: 0.9664 - val_loss: 2.8964 - val_accuracy: 0.6012\n",
      "Epoch 97/100\n",
      " - 1s - loss: 0.0958 - accuracy: 0.9630 - val_loss: 2.7976 - val_accuracy: 0.6250\n",
      "Epoch 98/100\n",
      " - 1s - loss: 0.0956 - accuracy: 0.9610 - val_loss: 2.8474 - val_accuracy: 0.6310\n",
      "Epoch 99/100\n",
      " - 1s - loss: 0.0899 - accuracy: 0.9630 - val_loss: 2.9255 - val_accuracy: 0.6190\n",
      "Epoch 100/100\n",
      " - 1s - loss: 0.1026 - accuracy: 0.9590 - val_loss: 2.9381 - val_accuracy: 0.6310\n"
     ]
    }
   ],
   "source": [
    "history=deep.fit(embedding_matrix_train, y_train, batch_size=4, epochs=100,verbose=2,validation_data=(embedding_matrix_val,y_val))"
   ]
  },
  {
   "cell_type": "code",
   "execution_count": 358,
   "metadata": {},
   "outputs": [
    {
     "data": {
      "image/png": "[encoded data removed]",
      "text/plain": [
       "<Figure size 432x288 with 1 Axes>"
      ]
     },
     "metadata": {
      "needs_background": "light"
     },
     "output_type": "display_data"
    }
   ],
   "source": [
    "import matplotlib.pyplot as plt\n",
    "plt.plot(history.history['accuracy'])\n",
    "#plt.plot(history.history['val_accuracy'])\n",
    "plt.title('Training accuracy')\n",
    "plt.ylabel('accuracy')\n",
    "plt.xlabel('epoch')\n",
    "plt.legend(['training accuracy', 'test'], loc='upper left')\n",
    "plt.show()"
   ]
  },
  {
   "cell_type": "code",
   "execution_count": 302,
   "metadata": {
    "scrolled": true
   },
   "outputs": [
    {
     "name": "stdout",
     "output_type": "stream",
     "text": [
      "25/25 [==============================] - 0s 41us/step\n",
      "[0.8487358093261719, 0.800000011920929]\n"
     ]
    }
   ],
   "source": [
    "# model evaluation \n",
    "result=deep.evaluate(embedding_matrix_test,y_test)\n",
    "print(result)"
   ]
  },
  {
   "cell_type": "code",
   "execution_count": 303,
   "metadata": {},
   "outputs": [],
   "source": [
    "preid_lebel=deep.predict(embedding_matrix_test)\n",
    "pred=preid_lebel.round()"
   ]
  },
  {
   "cell_type": "code",
   "execution_count": 299,
   "metadata": {},
   "outputs": [
    {
     "name": "stdout",
     "output_type": "stream",
     "text": [
      "1441    0\n",
      "1631    0\n",
      "1597    0\n",
      "62      1\n",
      "1405    0\n",
      "877     0\n",
      "1842    0\n",
      "130     1\n",
      "1654    0\n",
      "1253    0\n",
      "221     1\n",
      "223     1\n",
      "970     0\n",
      "1359    0\n",
      "1043    0\n",
      "671     1\n",
      "958     0\n",
      "1254    0\n",
      "137     1\n",
      "564     1\n",
      "1156    0\n",
      "430     1\n",
      "535     1\n",
      "1747    0\n",
      "1103    0\n",
      "Name: class, dtype: int64\n"
     ]
    }
   ],
   "source": [
    "print(y_test)"
   ]
  },
  {
   "cell_type": "code",
   "execution_count": 309,
   "metadata": {
    "scrolled": true
   },
   "outputs": [
    {
     "name": "stdout",
     "output_type": "stream",
     "text": [
      "0.8\n",
      "0.7\n",
      "0.7777777777777778\n",
      "0.7368421052631577\n"
     ]
    }
   ],
   "source": [
    "import numpy\n",
    "import sklearn.metrics\n",
    "Accuracy=sklearn.metrics.accuracy_score(y_test, pred)\n",
    "print(Accuracy)\n",
    "precision=sklearn.metrics.precision_score(y_test, pred)\n",
    "print(precision)\n",
    "recall=sklearn.metrics.recall_score(y_test, pred)\n",
    "print(recall)\n",
    "f1_score=sklearn.metrics.f1_score(y_test, pred)\n",
    "print(f1_score)\n"
   ]
  },
  {
   "cell_type": "code",
   "execution_count": 311,
   "metadata": {},
   "outputs": [
    {
     "data": {
      "image/png": "[encoded data removed]",
      "text/plain": [
       "<Figure size 432x288 with 1 Axes>"
      ]
     },
     "metadata": {
      "needs_background": "light"
     },
     "output_type": "display_data"
    }
   ],
   "source": [
    "import matplotlib.pyplot as plt\n",
    "fig = plt.figure()\n",
    "ax = fig.add_axes([0,0,1,1])\n",
    "metrics = ['Accuracy', 'Precision', 'Recall', 'F1-score']\n",
    "values = [Accuracy,precision,recall,f1_score]\n",
    "ax.bar(metrics,values,width=0.35)\n",
    "ax.set_xlabel('Evaluation Metrics')\n",
    "ax.set_ylabel('Scores')\n",
    "ax.set_title('Performance of the proposed model')\n",
    "plt.show()"
   ]
  },
  {
   "cell_type": "code",
   "execution_count": 393,
   "metadata": {},
   "outputs": [
    {
     "data": {
      "image/png": "[encoded data removed]",
      "text/plain": [
       "<Figure size 432x288 with 1 Axes>"
      ]
     },
     "metadata": {
      "needs_background": "light"
     },
     "output_type": "display_data"
    }
   ],
   "source": [
    "import matplotlib.pyplot as plt\n",
    "plt.plot(history.history['loss'], c='b')\n",
    "#plt.plot(history.history['val_loss'],c='b')\n",
    "plt.title('Training loss of the model')\n",
    "plt.ylabel('loss')\n",
    "plt.xlabel('epoch')\n",
    "plt.legend(['Training loss'], loc='upper left')\n",
    "plt.show()"
   ]
  },
  {
   "cell_type": "code",
   "execution_count": 380,
   "metadata": {},
   "outputs": [
    {
     "name": "stdout",
     "output_type": "stream",
     "text": [
      "25/25 [==============================] - 0s 80us/step\n",
      "[0.5001906752586365, 0.8399999737739563]\n"
     ]
    }
   ],
   "source": [
    "# testing the data with testing dataset\n",
    "test_acc=deep.evaluate(embedding_matrix_test,  y_test)\n",
    "print(test_acc)"
   ]
  },
  {
   "cell_type": "code",
   "execution_count": 361,
   "metadata": {},
   "outputs": [
    {
     "data": {
      "image/png": "[encoded data removed]",
      "text/plain": [
       "<Figure size 432x288 with 1 Axes>"
      ]
     },
     "metadata": {
      "needs_background": "light"
     },
     "output_type": "display_data"
    }
   ],
   "source": [
    "plt.plot(history.history['loss'])\n",
    "plt.plot(history.history['val_loss'])\n",
    "plt.title('model loss')\n",
    "plt.ylabel('loss')\n",
    "plt.xlabel('epoch')\n",
    "plt.legend(['train', 'test'], loc='upper left')\n",
    "plt.show()"
   ]
  },
  {
   "cell_type": "code",
   "execution_count": 277,
   "metadata": {},
   "outputs": [
    {
     "name": "stdout",
     "output_type": "stream",
     "text": [
      "[1.348805974988104, 0.6699029207229614]\n"
     ]
    }
   ],
   "source": [
    "print(test_acc)"
   ]
  },
  {
   "cell_type": "code",
   "execution_count": 312,
   "metadata": {},
   "outputs": [
    {
     "data": {
      "text/plain": [
       "KNeighborsClassifier(algorithm='auto', leaf_size=30, metric='minkowski',\n",
       "                     metric_params=None, n_jobs=None, n_neighbors=1, p=2,\n",
       "                     weights='uniform')"
      ]
     },
     "execution_count": 312,
     "metadata": {},
     "output_type": "execute_result"
    }
   ],
   "source": [
    "from sklearn.neighbors import KNeighborsClassifier  \n",
    "classifier= KNeighborsClassifier(n_neighbors=1, metric='minkowski', p=2 )  \n",
    "classifier.fit(embedding_matrix_train, y_train)  "
   ]
  },
  {
   "cell_type": "code",
   "execution_count": 313,
   "metadata": {},
   "outputs": [],
   "source": [
    "y_pred= classifier.predict(embedding_matrix_test)  "
   ]
  },
  {
   "cell_type": "code",
   "execution_count": 314,
   "metadata": {},
   "outputs": [
    {
     "name": "stdout",
     "output_type": "stream",
     "text": [
      "[[14  2]\n",
      " [ 6  3]]\n"
     ]
    }
   ],
   "source": [
    "from sklearn.metrics import confusion_matrix  \n",
    "cm= confusion_matrix(y_test, y_pred) \n",
    "print(cm)"
   ]
  },
  {
   "cell_type": "code",
   "execution_count": 315,
   "metadata": {},
   "outputs": [
    {
     "name": "stdout",
     "output_type": "stream",
     "text": [
      "0.68\n"
     ]
    }
   ],
   "source": [
    "result=classifier.score(embedding_matrix_test,y_test)\n",
    "print(result)"
   ]
  },
  {
   "cell_type": "code",
   "execution_count": 316,
   "metadata": {},
   "outputs": [],
   "source": [
    "# random Foresset\n",
    "from sklearn.ensemble import RandomForestClassifier\n",
    "clf = RandomForestClassifier(n_estimators = 100) "
   ]
  },
  {
   "cell_type": "code",
   "execution_count": 317,
   "metadata": {},
   "outputs": [
    {
     "data": {
      "text/plain": [
       "RandomForestClassifier(bootstrap=True, ccp_alpha=0.0, class_weight=None,\n",
       "                       criterion='gini', max_depth=None, max_features='auto',\n",
       "                       max_leaf_nodes=None, max_samples=None,\n",
       "                       min_impurity_decrease=0.0, min_impurity_split=None,\n",
       "                       min_samples_leaf=1, min_samples_split=2,\n",
       "                       min_weight_fraction_leaf=0.0, n_estimators=100,\n",
       "                       n_jobs=None, oob_score=False, random_state=None,\n",
       "                       verbose=0, warm_start=False)"
      ]
     },
     "execution_count": 317,
     "metadata": {},
     "output_type": "execute_result"
    }
   ],
   "source": [
    "clf.fit(embedding_matrix_train,y_train)"
   ]
  },
  {
   "cell_type": "code",
   "execution_count": 318,
   "metadata": {},
   "outputs": [],
   "source": [
    "y_pred=clf.predict(embedding_matrix_test)"
   ]
  },
  {
   "cell_type": "code",
   "execution_count": 319,
   "metadata": {},
   "outputs": [
    {
     "name": "stdout",
     "output_type": "stream",
     "text": [
      "[0 0 0 1 0 0 0 1 0 0 1 0 1 0 0 0 0 1 1 0 0 0 1 0 1]\n"
     ]
    }
   ],
   "source": [
    "result=clf.score(embedding_matrix_test,y_test)\n",
    "print(y_pred)"
   ]
  },
  {
   "cell_type": "code",
   "execution_count": 221,
   "metadata": {},
   "outputs": [
    {
     "name": "stdout",
     "output_type": "stream",
     "text": [
      "1441    0\n",
      "1631    0\n",
      "1597    0\n",
      "62      1\n",
      "1405    0\n",
      "877     0\n",
      "1842    0\n",
      "130     1\n",
      "1654    0\n",
      "1253    0\n",
      "221     1\n",
      "223     1\n",
      "970     0\n",
      "1359    0\n",
      "1043    0\n",
      "671     1\n",
      "958     0\n",
      "1254    0\n",
      "137     1\n",
      "564     1\n",
      "1156    0\n",
      "430     1\n",
      "535     1\n",
      "1747    0\n",
      "1103    0\n"
     ]
    }
   ],
   "source": [
    "print(y_test.to_string())"
   ]
  },
  {
   "cell_type": "code",
   "execution_count": 320,
   "metadata": {},
   "outputs": [
    {
     "name": "stdout",
     "output_type": "stream",
     "text": [
      "0.72\n"
     ]
    }
   ],
   "source": [
    "print(result)"
   ]
  },
  {
   "cell_type": "code",
   "execution_count": 354,
   "metadata": {},
   "outputs": [
    {
     "data": {
      "text/plain": [
       "SVC(C=1.0, break_ties=False, cache_size=200, class_weight=None, coef0=0.0,\n",
       "    decision_function_shape='ovr', degree=3, gamma='scale', kernel='rbf',\n",
       "    max_iter=-1, probability=False, random_state=None, shrinking=True,\n",
       "    tol=0.001, verbose=False)"
      ]
     },
     "execution_count": 354,
     "metadata": {},
     "output_type": "execute_result"
    }
   ],
   "source": [
    "from sklearn.svm import SVC\n",
    "svclassifier = SVC(kernel='rbf')\n",
    "svclassifier.fit(embedding_matrix_train, y_train)"
   ]
  },
  {
   "cell_type": "code",
   "execution_count": 350,
   "metadata": {},
   "outputs": [],
   "source": [
    "y_pred = svclassifier.predict(embedding_matrix_test)"
   ]
  },
  {
   "cell_type": "code",
   "execution_count": 356,
   "metadata": {},
   "outputs": [
    {
     "name": "stdout",
     "output_type": "stream",
     "text": [
      "[0 0 0 0 0 0 0 0 0 0 1 0 0 0 0 0 0 0 0 0 0 0 0 0 0]\n"
     ]
    }
   ],
   "source": [
    "print(y_pred)"
   ]
  },
  {
   "cell_type": "code",
   "execution_count": 355,
   "metadata": {},
   "outputs": [
    {
     "name": "stdout",
     "output_type": "stream",
     "text": [
      "[[16  0]\n",
      " [ 8  1]]\n",
      "              precision    recall  f1-score   support\n",
      "\n",
      "           0       0.67      1.00      0.80        16\n",
      "           1       1.00      0.11      0.20         9\n",
      "\n",
      "    accuracy                           0.68        25\n",
      "   macro avg       0.83      0.56      0.50        25\n",
      "weighted avg       0.79      0.68      0.58        25\n",
      "\n"
     ]
    }
   ],
   "source": [
    "from sklearn.metrics import classification_report, confusion_matrix\n",
    "print(confusion_matrix(y_test,y_pred))\n",
    "print(classification_report(y_test,y_pred))"
   ]
  },
  {
   "cell_type": "code",
   "execution_count": 357,
   "metadata": {},
   "outputs": [
    {
     "name": "stdout",
     "output_type": "stream",
     "text": [
      "0.8\n"
     ]
    }
   ],
   "source": [
    "ac=svclassifier.score(embedding_matrix_test,y_test)\n",
    "print(ac)"
   ]
  },
  {
   "cell_type": "code",
   "execution_count": null,
   "metadata": {},
   "outputs": [],
   "source": []
  },
  {
   "cell_type": "code",
   "execution_count": null,
   "metadata": {},
   "outputs": [],
   "source": []
  }
 ],
 "metadata": {
  "kernelspec": {
   "display_name": "Python 3",
   "language": "python",
   "name": "python3"
  },
  "language_info": {
   "codemirror_mode": {
    "name": "ipython",
    "version": 3
   },
   "file_extension": ".py",
   "mimetype": "text/x-python",
   "name": "python",
   "nbconvert_exporter": "python",
   "pygments_lexer": "ipython3",
   "version": "3.7.6"
  }
 },
 "nbformat": 4,
 "nbformat_minor": 4
}
